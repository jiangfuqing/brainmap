{
 "cells": [
  {
   "cell_type": "code",
   "execution_count": 233,
   "metadata": {
    "ExecuteTime": {
     "end_time": "2017-06-12T23:42:55.592530",
     "start_time": "2017-06-12T23:42:55.581911"
    },
    "collapsed": true,
    "run_control": {
     "frozen": false,
     "read_only": false
    }
   },
   "outputs": [],
   "source": [
    "import numpy as np\n",
    "import matplotlib.pyplot as plt\n",
    "from allensdk.api.queries.rma_api import RmaApi\n",
    "from allensdk.api.queries.grid_data_api import GridDataApi\n",
    "from brainmap import AllenVolumetricData"
   ]
  },
  {
   "cell_type": "code",
   "execution_count": 2,
   "metadata": {
    "ExecuteTime": {
     "end_time": "2017-06-12T22:02:08.694755",
     "start_time": "2017-06-12T22:02:08.689319"
    },
    "collapsed": true
   },
   "outputs": [],
   "source": [
    "rma = RmaApi()"
   ]
  },
  {
   "cell_type": "code",
   "execution_count": 229,
   "metadata": {
    "ExecuteTime": {
     "end_time": "2017-06-12T23:40:33.872667",
     "start_time": "2017-06-12T23:40:33.848310"
    },
    "collapsed": false
   },
   "outputs": [],
   "source": [
    "def find_id_ish(gene, sag_or_cor=\"coronal\", adu_or_dev=\"adult\", time_point=\"P56\"):\n",
    "    \"\"\"Return the ids of Section Data Sets (a single gene experiment)\n",
    "    \n",
    "    Args\n",
    "    ----\n",
    "    gene: str\n",
    "        the gene to search for\n",
    "    \n",
    "    sag_or_cor: str (accepts * wild cards)\n",
    "        `coronal` or `sagittal` or `*`\n",
    "        \n",
    "    adu_or_dev: str (accepts * wild cards)\n",
    "        `adult`, `development`, `both`\n",
    "    \n",
    "    time_point: str (it will be autmatically wildcarded)\n",
    "        e.g. \"P56\", \"E\", \"E13\", \"P\"\n",
    "    \n",
    "    Returns\n",
    "    -------\n",
    "    list of ids\n",
    "    \n",
    "    \"\"\"\n",
    "    \n",
    "    if adu_or_dev == \"adult\":\n",
    "        adu_or_dev = \"Mouse\"\n",
    "    elif adu_or_dev == \"development\":\n",
    "        adu_or_dev = \"DevMouse\"\n",
    "    elif adu_or_dev == \"both\":\n",
    "        adu_or_dev = \"*Mouse\"\n",
    "    else:\n",
    "        raise ValueError(\"adu_or_dev='%s' is not valid\" % adu_or_dev)\n",
    "    criteria = [\"[failed$eq'false']\",\n",
    "                \"reference_space[name$li'*%s*']\" % time_point,\n",
    "                \"products[abbreviation$li'%s']\" % adu_or_dev,\n",
    "                \"plane_of_section[name$li'%s']\" % sag_or_cor,\n",
    "                \"genes[acronym$eq'%s']\" % gene]\n",
    "    #include='reference_space',\n",
    "    res = rma.model_query(\"SectionDataSet\",\n",
    "                    criteria = ','.join(criteria), only=[\"id\"],num_rows='all')\n",
    "    if isinstance(res, str):\n",
    "        raise ValueError(\"Bad query! Server returned :\\n%s\" % res)\n",
    "        \n",
    "    results = []\n",
    "    for i in res:\n",
    "        results.append(i[\"id\"])\n",
    "        \n",
    "    return results"
   ]
  },
  {
   "cell_type": "code",
   "execution_count": 225,
   "metadata": {
    "ExecuteTime": {
     "end_time": "2017-06-12T23:31:18.573236",
     "start_time": "2017-06-12T23:31:18.567665"
    },
    "collapsed": true
   },
   "outputs": [],
   "source": [
    "gda = GridDataApi()"
   ]
  },
  {
   "cell_type": "code",
   "execution_count": 223,
   "metadata": {
    "ExecuteTime": {
     "end_time": "2017-06-12T23:30:32.847207",
     "start_time": "2017-06-12T23:30:30.912104"
    },
    "collapsed": false
   },
   "outputs": [
    {
     "data": {
      "text/plain": [
       "[79556706, 479]"
      ]
     },
     "execution_count": 223,
     "metadata": {},
     "output_type": "execute_result"
    }
   ],
   "source": [
    "find_id_ish(\"Gad1\", sag_or_cor='coronal', adu_or_dev='adult', time_point='P56')"
   ]
  },
  {
   "cell_type": "code",
   "execution_count": 232,
   "metadata": {
    "ExecuteTime": {
     "end_time": "2017-06-12T23:42:23.566825",
     "start_time": "2017-06-12T23:42:23.445264"
    },
    "collapsed": false
   },
   "outputs": [
    {
     "name": "stdout",
     "output_type": "stream",
     "text": [
      "Adora2a_P56_coronal_72109410_200um.zip\r\n",
      "Adora2a_P56_coronal_72109410_200um_intensity.zip\r\n",
      "\u001b[0m\u001b[01;34mAllenBrain3d\u001b[0m/\r\n",
      "Gad1_coronal_adult_P56_79556706.zip\r\n"
     ]
    }
   ],
   "source": [
    "ls ../data"
   ]
  },
  {
   "cell_type": "code",
   "execution_count": 240,
   "metadata": {
    "ExecuteTime": {
     "end_time": "2017-06-12T23:44:20.274004",
     "start_time": "2017-06-12T23:44:15.721997"
    },
    "collapsed": false
   },
   "outputs": [],
   "source": [
    "gda.download_expression_grid_data(479,path=\"../data/Gad1_coronal_adult_P56_479.zip\")"
   ]
  },
  {
   "cell_type": "code",
   "execution_count": 243,
   "metadata": {
    "ExecuteTime": {
     "end_time": "2017-06-12T23:44:57.320569",
     "start_time": "2017-06-12T23:44:57.302026"
    },
    "collapsed": true
   },
   "outputs": [],
   "source": [
    "grid_expression1 = AllenVolumetricData(\"../data/Gad1_coronal_adult_P56_479.zip\")\n",
    "grid_expression2 = AllenVolumetricData(\"../data/Gad1_coronal_adult_P56_79556706.zip\")"
   ]
  },
  {
   "cell_type": "code",
   "execution_count": 237,
   "metadata": {
    "ExecuteTime": {
     "end_time": "2017-06-12T23:43:42.420050",
     "start_time": "2017-06-12T23:43:42.408949"
    },
    "collapsed": true
   },
   "outputs": [],
   "source": [
    "%matplotlib inline"
   ]
  },
  {
   "cell_type": "code",
   "execution_count": 244,
   "metadata": {
    "ExecuteTime": {
     "end_time": "2017-06-12T23:45:06.951371",
     "start_time": "2017-06-12T23:45:06.466338"
    },
    "collapsed": false
   },
   "outputs": [
    {
     "data": {
      "image/png": "[encoded data removed]",
      "text/plain": [
       "<matplotlib.figure.Figure at 0x7ff1b9e6de10>"
      ]
     },
     "metadata": {},
     "output_type": "display_data"
    }
   ],
   "source": [
    "grid_expression1.plot_slides(30,10)"
   ]
  },
  {
   "cell_type": "code",
   "execution_count": 245,
   "metadata": {
    "ExecuteTime": {
     "end_time": "2017-06-12T23:45:07.622454",
     "start_time": "2017-06-12T23:45:06.954667"
    },
    "collapsed": false
   },
   "outputs": [
    {
     "data": {
      "image/png": "[encoded data removed]",
      "text/plain": [
       "<matplotlib.figure.Figure at 0x7ff1b9cfc160>"
      ]
     },
     "metadata": {},
     "output_type": "display_data"
    }
   ],
   "source": [
    "grid_expression2.plot_slides(30,10)"
   ]
  },
  {
   "cell_type": "code",
   "execution_count": null,
   "metadata": {
    "collapsed": true
   },
   "outputs": [],
   "source": [
    "include = ','.join(['section_data_set','structure','section_data_set(genes, specimen(donor(age)))'])\n",
    "\n",
    "# [ages.embryonic$eqTrue] can be added\n",
    "# double parenthesis work as logical and\n",
    "only = ['expression_energy',\n",
    "                  'sum_expressing_pixel_intensity',\n",
    "                  'sum_pixels',\n",
    "                  'sum_expressing_pixels',\n",
    "                  'voxel_energy_mean',\n",
    "                  'voxel_energy_cv',\n",
    "                  'genes.acronym',\n",
    "                  'ages.name',\n",
    "                  'structures.id',\n",
    "                  \"structures.acronym\",\n",
    "                  \"structures.st_level\",\n",
    "                  \"data_sets.plane_of_section_id\",\n",
    "                  \"donors.id\"]"
   ]
  }
 ],
 "metadata": {
  "anaconda-cloud": {},
  "hide_input": false,
  "kernelspec": {
   "display_name": "Python 3",
   "language": "python",
   "name": "python3"
  },
  "language_info": {
   "codemirror_mode": {
    "name": "ipython",
    "version": 3
   },
   "file_extension": ".py",
   "mimetype": "text/x-python",
   "name": "python",
   "nbconvert_exporter": "python",
   "pygments_lexer": "ipython3",
   "version": "3.5.2"
  }
 },
 "nbformat": 4,
 "nbformat_minor": 1
}
