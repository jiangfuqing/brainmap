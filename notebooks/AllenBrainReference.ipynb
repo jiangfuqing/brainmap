{
 "cells": [
  {
   "cell_type": "markdown",
   "metadata": {},
   "source": [
    "# Imports "
   ]
  },
  {
   "cell_type": "code",
   "execution_count": 1,
   "metadata": {},
   "outputs": [],
   "source": [
    "import numpy as np\n",
    "import logging\n",
    "import matplotlib.pyplot as plt\n",
    "import sys\n",
    "logging.basicConfig(stream=sys.stdout, format='%(asctime)s - %(levelname)s - %(message)s', level=logging.DEBUG)\n",
    "from brainmap import AllenBrainReference, AllenBrainStructure, AllenVolumetricData, ColoredVolumetric\n",
    "%matplotlib inline"
   ]
  },
  {
   "cell_type": "markdown",
   "metadata": {},
   "source": [
    "# Analysis"
   ]
  },
  {
   "cell_type": "code",
   "execution_count": 2,
   "metadata": {},
   "outputs": [
    {
     "name": "stdout",
     "output_type": "stream",
     "text": [
      "2017-06-12 15:46:37,232 - INFO - Downloading URL: http://api.brain-map.org/api/v2/data/query.json?q=model::Structure,rma::criteria,[graph_id$in1],rma::options[num_rows$eq'all'][order$eqstructures.graph_order][count$eqfalse]\n"
     ]
    }
   ],
   "source": [
    "ABR = AllenBrainReference(\"adult\")"
   ]
  },
  {
   "cell_type": "code",
   "execution_count": 13,
   "metadata": {},
   "outputs": [],
   "source": [
    "structure = ABR[557]"
   ]
  },
  {
   "cell_type": "code",
   "execution_count": 17,
   "metadata": {},
   "outputs": [
    {
     "data": {
      "text/html": [
       "<p><table><tr align=\"center\"><td>&nbsp;</td><td><strong>Mammillary body</strong></td></tr><tr align=\"center\"><td><strong>acronym</strong></td><td>MBO</td></tr><tr align=\"center\"><td><strong>name</strong></td><td>Mammillary body</td></tr><tr align=\"center\"><td><strong>id</strong></td><td>331</td></tr><tr align=\"center\"><td><strong>graph_order</strong></td><td>760</td></tr><tr align=\"center\"><td><strong>st_level</strong></td><td>None</td></tr><tr align=\"center\"><td><strong>depth</strong></td><td>6</td></tr><tr align=\"center\"><td><strong>structure_id_path</strong></td><td>/997/8/343/1129/1097/467/331/</td></tr><tr><td><strong>color</strong></td><td bgcolor=\"#FF4C3E\">FF4C3E</td></tr></table>"
      ],
      "text/plain": [
       "<AllenBrainStructure 331 \"Mammillary body\" at 0x113986cf8>"
      ]
     },
     "execution_count": 17,
     "metadata": {},
     "output_type": "execute_result"
    }
   ],
   "source": [
    "structure.parent"
   ]
  },
  {
   "cell_type": "code",
   "execution_count": 18,
   "metadata": {},
   "outputs": [
    {
     "data": {
      "text/plain": [
       "[<AllenBrainStructure 1 \"Tuberomammillary nucleus ventral part\" at 0x113986ef0>,\n",
       " <AllenBrainStructure 1126 \"Tuberomammillary nucleus dorsal part\" at 0x113986eb8>]"
      ]
     },
     "execution_count": 18,
     "metadata": {},
     "output_type": "execute_result"
    }
   ],
   "source": [
    "structure.children"
   ]
  },
  {
   "cell_type": "code",
   "execution_count": 4,
   "metadata": {},
   "outputs": [
    {
     "name": "stdout",
     "output_type": "stream",
     "text": [
      "2017-06-12 15:46:49,248 - DEBUG - Reading data file\n",
      "2017-06-12 15:46:57,036 - DEBUG - Reading data file\n",
      "2017-06-12 15:46:58,149 - DEBUG - Reading data file\n"
     ]
    }
   ],
   "source": [
    "annotation = AllenVolumetricData(\"../data/AllenBrain3d/P56_Mouse_annotation.zip\", reference=ABR)\n",
    "grayscale = AllenVolumetricData(\"../data/AllenBrain3d/P56_atlasVolume.zip\", reference=ABR)\n",
    "griddata = AllenVolumetricData(\"../data/AllenBrain3d/P56_Mouse_gridAnnotation.zip\", reference=ABR)"
   ]
  },
  {
   "cell_type": "code",
   "execution_count": 5,
   "metadata": {},
   "outputs": [
    {
     "data": {
      "application/vnd.jupyter.widget-view+json": {
       "model_id": "f5143c939db84c93abcb2a4c83d6c318",
       "version_major": "2",
       "version_minor": "0"
      },
      "text/plain": [
       "A Jupyter Widget"
      ]
     },
     "metadata": {},
     "output_type": "display_data"
    },
    {
     "data": {
      "text/plain": [
       "(<function brainmap.core.AllenVolumetricData.interactive_slides.<locals>.<lambda>>,\n",
       " None)"
      ]
     },
     "execution_count": 5,
     "metadata": {},
     "output_type": "execute_result"
    },
    {
     "data": {
      "text/plain": [
       "<matplotlib.figure.Figure at 0x1139a0a20>"
      ]
     },
     "metadata": {},
     "output_type": "display_data"
    },
    {
     "data": {
      "text/plain": [
       "<matplotlib.figure.Figure at 0x1139a09b0>"
      ]
     },
     "metadata": {},
     "output_type": "display_data"
    }
   ],
   "source": [
    "plt.figure(figsize=(17,8))\n",
    "grayscale.interactive_slides()"
   ]
  },
  {
   "cell_type": "code",
   "execution_count": 6,
   "metadata": {},
   "outputs": [
    {
     "data": {
      "application/vnd.jupyter.widget-view+json": {
       "model_id": "c7775a857367451a89d2df1eadc3dc1b",
       "version_major": "2",
       "version_minor": "0"
      },
      "text/plain": [
       "A Jupyter Widget"
      ]
     },
     "metadata": {},
     "output_type": "display_data"
    },
    {
     "data": {
      "text/plain": [
       "(<function brainmap.core.ColoredVolumetric.interactive_slides.<locals>.plot_slides>,\n",
       " None)"
      ]
     },
     "execution_count": 6,
     "metadata": {},
     "output_type": "execute_result"
    },
    {
     "data": {
      "text/plain": [
       "<matplotlib.figure.Figure at 0x113e54400>"
      ]
     },
     "metadata": {},
     "output_type": "display_data"
    },
    {
     "data": {
      "text/plain": [
       "<matplotlib.figure.Figure at 0x113e54080>"
      ]
     },
     "metadata": {},
     "output_type": "display_data"
    }
   ],
   "source": [
    "plt.figure(figsize=(15,7))\n",
    "annotation.colored.interactive_slides()"
   ]
  },
  {
   "cell_type": "code",
   "execution_count": 19,
   "metadata": {},
   "outputs": [
    {
     "data": {
      "image/png": "[encoded data removed]",
      "text/plain": [
       "<matplotlib.figure.Figure at 0x119900240>"
      ]
     },
     "metadata": {},
     "output_type": "display_data"
    }
   ],
   "source": [
    "annotation.plot_slides(200,100)"
   ]
  },
  {
   "cell_type": "code",
   "execution_count": 7,
   "metadata": {},
   "outputs": [
    {
     "data": {
      "application/vnd.jupyter.widget-view+json": {
       "model_id": "8903677edd6344359ac1cce42b98875d",
       "version_major": "2",
       "version_minor": "0"
      },
      "text/plain": [
       "A Jupyter Widget"
      ]
     },
     "metadata": {},
     "output_type": "display_data"
    },
    {
     "data": {
      "text/plain": [
       "(<function brainmap.core.ColoredVolumetric.interactive_slides.<locals>.plot_slides>,\n",
       " None)"
      ]
     },
     "execution_count": 7,
     "metadata": {},
     "output_type": "execute_result"
    },
    {
     "data": {
      "text/plain": [
       "<matplotlib.figure.Figure at 0x1140382e8>"
      ]
     },
     "metadata": {},
     "output_type": "display_data"
    }
   ],
   "source": [
    "griddata.interactive_slides()"
   ]
  },
  {
   "cell_type": "markdown",
   "metadata": {},
   "source": [
    "http://help.brain-map.org/display/devmouse/API"
   ]
  },
  {
   "cell_type": "code",
   "execution_count": null,
   "metadata": {},
   "outputs": [],
   "source": []
  }
 ],
 "metadata": {
  "kernelspec": {
   "display_name": "Python 3",
   "language": "python",
   "name": "python3"
  },
  "language_info": {
   "codemirror_mode": {
    "name": "ipython",
    "version": 3
   },
   "file_extension": ".py",
   "mimetype": "text/x-python",
   "name": "python",
   "nbconvert_exporter": "python",
   "pygments_lexer": "ipython3",
   "version": "3.5.2"
  }
 },
 "nbformat": 4,
 "nbformat_minor": 2
}
