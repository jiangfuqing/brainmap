{
 "cells": [
  {
   "cell_type": "code",
   "execution_count": 24,
   "metadata": {
    "ExecuteTime": {
     "end_time": "2017-06-13T11:04:12.373639",
     "start_time": "2017-06-13T11:04:12.362973"
    },
    "collapsed": false,
    "run_control": {
     "frozen": false,
     "read_only": false
    }
   },
   "outputs": [],
   "source": [
    "import numpy as np\n",
    "import matplotlib.pyplot as plt\n",
    "from allensdk.api.queries.rma_api import RmaApi\n",
    "from allensdk.api.queries.grid_data_api import GridDataApi\n",
    "from brainmap import AllenVolumetricData, ISHFetcher\n",
    "import sys\n",
    "import os\n",
    "from multiprocessing import Pool"
   ]
  },
  {
   "cell_type": "code",
   "execution_count": 2,
   "metadata": {
    "ExecuteTime": {
     "end_time": "2017-06-13T10:56:24.723350",
     "start_time": "2017-06-13T10:56:24.707758"
    },
    "collapsed": false,
    "run_control": {
     "frozen": false,
     "read_only": false
    }
   },
   "outputs": [],
   "source": [
    "rma = RmaApi()\n",
    "fft = ISHFetcher()\n",
    "all_genes = open(\"/home/gioele/IPyNotebook/AllenBrainFiles/genes_allenbrain.txt\").read().rstrip().split(\"\\n\")"
   ]
  },
  {
   "cell_type": "code",
   "execution_count": null,
   "metadata": {
    "ExecuteTime": {
     "end_time": "2017-06-13T01:33:51.112777",
     "start_time": "2017-06-13T01:33:51.102942"
    },
    "collapsed": true,
    "run_control": {
     "frozen": false,
     "read_only": false
    }
   },
   "outputs": [],
   "source": [
    "fetchers = [ISHFetcher() for i in range(12)]"
   ]
  },
  {
   "cell_type": "code",
   "execution_count": null,
   "metadata": {
    "ExecuteTime": {
     "end_time": "2017-06-13T01:23:35.995002",
     "start_time": "2017-06-13T01:21:59.755708"
    },
    "collapsed": false,
    "run_control": {
     "frozen": false,
     "read_only": false
    }
   },
   "outputs": [],
   "source": [
    "#for gene in all_genes:\n",
    "#    print(gene)\n",
    "#    fft.download_grid_recent(gene=gene, folder='/home/gioele/IPyNotebook/AllenBrainExpressionGrids/',\n",
    "#                             sag_or_cor='coronal', adu_or_dev='adult', time_point='P56')"
   ]
  },
  {
   "cell_type": "code",
   "execution_count": null,
   "metadata": {
    "ExecuteTime": {
     "end_time": "2017-06-13T01:38:43.710464",
     "start_time": "2017-06-13T01:38:43.594836"
    },
    "collapsed": true,
    "run_control": {
     "frozen": false,
     "read_only": false
    }
   },
   "outputs": [],
   "source": [
    "N = 12\n",
    "p = Pool(processes=N)"
   ]
  },
  {
   "cell_type": "code",
   "execution_count": null,
   "metadata": {
    "ExecuteTime": {
     "end_time": "2017-06-13T01:38:36.356795",
     "start_time": "2017-06-13T01:38:36.349930"
    },
    "collapsed": false,
    "run_control": {
     "frozen": false,
     "read_only": false
    }
   },
   "outputs": [],
   "source": [
    "def download_grid_recent(gene,n,folder, sag_or_cor, adu_or_dev, time_point):\n",
    "    return fetchers[n].download_grid_recent(gene,folder, sag_or_cor, adu_or_dev, time_point)"
   ]
  },
  {
   "cell_type": "code",
   "execution_count": 19,
   "metadata": {
    "ExecuteTime": {
     "end_time": "2017-06-13T11:01:45.500468",
     "start_time": "2017-06-13T11:01:45.490131"
    },
    "collapsed": false
   },
   "outputs": [
    {
     "data": {
      "text/plain": [
       "(20040, (20040,))"
      ]
     },
     "execution_count": 19,
     "metadata": {},
     "output_type": "execute_result"
    }
   ],
   "source": [
    "zis = np.tile(np.arange(N), 1 + len(all_genes)//N)[:len(all_genes)]\n",
    "len(all_genes), zis.shape"
   ]
  },
  {
   "cell_type": "code",
   "execution_count": null,
   "metadata": {
    "ExecuteTime": {
     "start_time": "2017-06-12T23:52:09.154Z"
    },
    "collapsed": false,
    "run_control": {
     "frozen": false,
     "read_only": false
    }
   },
   "outputs": [],
   "source": [
    "try:\n",
    "    for gene, zi in zip(all_genes,zis):\n",
    "        p.apply_async(download_grid_recent,\n",
    "                      (gene,),\n",
    "                      dict(n=zi,folder='/home/gioele/IPyNotebook/AllenBrainExpressionGrids/',\n",
    "                           sag_or_cor='coronal', adu_or_dev='adult', time_point='P56'))\n",
    "    p.close()\n",
    "    p.join()\n",
    "except KeyboardInterrupt:\n",
    "    p.terminate()\n",
    "    print(\"you terminated the program\")"
   ]
  },
  {
   "cell_type": "code",
   "execution_count": 30,
   "metadata": {
    "ExecuteTime": {
     "end_time": "2017-06-13T11:14:48.768353",
     "start_time": "2017-06-13T11:14:48.724011"
    },
    "collapsed": true
   },
   "outputs": [],
   "source": [
    "genes_downloaded = !ls /home/gioele/IPyNotebook/AllenBrainExpressionGrids/\n",
    "genes_downloaded= [i.split(\"_\")[0] for i in genes_downloaded] "
   ]
  },
  {
   "cell_type": "code",
   "execution_count": 31,
   "metadata": {
    "ExecuteTime": {
     "end_time": "2017-06-13T11:14:50.315512",
     "start_time": "2017-06-13T11:14:50.294574"
    },
    "collapsed": false
   },
   "outputs": [
    {
     "data": {
      "text/plain": [
       "14539"
      ]
     },
     "execution_count": 31,
     "metadata": {},
     "output_type": "execute_result"
    }
   ],
   "source": [
    "to_download_genes = list(set(all_genes) - set(genes_downloaded))\n",
    "len(to_download_genes)"
   ]
  },
  {
   "cell_type": "code",
   "execution_count": 32,
   "metadata": {
    "ExecuteTime": {
     "end_time": "2017-06-13T11:14:58.410047",
     "start_time": "2017-06-13T11:14:57.518183"
    },
    "collapsed": false
   },
   "outputs": [],
   "source": [
    "N = 80\n",
    "p = Pool(processes=N)\n",
    "fetchers = [ISHFetcher() for i in range(N)]"
   ]
  },
  {
   "cell_type": "code",
   "execution_count": 33,
   "metadata": {
    "ExecuteTime": {
     "end_time": "2017-06-13T11:15:02.848816",
     "start_time": "2017-06-13T11:15:02.833341"
    },
    "collapsed": true
   },
   "outputs": [],
   "source": [
    "def download_grid_recent(gene,n,folder, sag_or_cor, adu_or_dev, time_point):\n",
    "    return fetchers[n].download_grid_recent(gene,folder, sag_or_cor, adu_or_dev, time_point)"
   ]
  },
  {
   "cell_type": "code",
   "execution_count": 34,
   "metadata": {
    "ExecuteTime": {
     "end_time": "2017-06-13T11:15:05.552576",
     "start_time": "2017-06-13T11:15:05.528054"
    },
    "collapsed": false
   },
   "outputs": [
    {
     "data": {
      "text/plain": [
       "(14539, (14539,))"
      ]
     },
     "execution_count": 34,
     "metadata": {},
     "output_type": "execute_result"
    }
   ],
   "source": [
    "zis = np.tile(np.arange(N), 1 + len(to_download_genes)//N)[:len(to_download_genes)]\n",
    "len(to_download_genes), zis.shape"
   ]
  },
  {
   "cell_type": "code",
   "execution_count": null,
   "metadata": {
    "ExecuteTime": {
     "start_time": "2017-06-13T09:28:40.927Z"
    },
    "collapsed": false
   },
   "outputs": [],
   "source": [
    "try:\n",
    "    for gene, zi in zip(to_download_genes, zis):\n",
    "        p.apply_async(download_grid_recent,\n",
    "                      (gene,),\n",
    "                      dict(n=zi,folder='/home/gioele/IPyNotebook/AllenBrainExpressionGrids/',\n",
    "                           sag_or_cor='sagittal', adu_or_dev='adult', time_point='P56'))\n",
    "    p.close()\n",
    "    p.join()\n",
    "except KeyboardInterrupt:\n",
    "    p.terminate()\n",
    "    print(\"you terminated the program\")"
   ]
  },
  {
   "cell_type": "code",
   "execution_count": null,
   "metadata": {
    "collapsed": true,
    "run_control": {
     "frozen": false,
     "read_only": false
    }
   },
   "outputs": [],
   "source": []
  }
 ],
 "metadata": {
  "anaconda-cloud": {},
  "hide_input": false,
  "kernelspec": {
   "display_name": "Python 3",
   "language": "python",
   "name": "python3"
  },
  "language_info": {
   "codemirror_mode": {
    "name": "ipython",
    "version": 3
   },
   "file_extension": ".py",
   "mimetype": "text/x-python",
   "name": "python",
   "nbconvert_exporter": "python",
   "pygments_lexer": "ipython3",
   "version": "3.5.2"
  }
 },
 "nbformat": 4,
 "nbformat_minor": 1
}
