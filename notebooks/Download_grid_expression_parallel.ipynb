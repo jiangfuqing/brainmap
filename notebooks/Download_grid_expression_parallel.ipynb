{
 "cells": [
  {
   "cell_type": "code",
   "execution_count": 9,
   "metadata": {
    "ExecuteTime": {
     "end_time": "2017-06-13T13:56:08.902646",
     "start_time": "2017-06-13T13:56:08.886288"
    },
    "collapsed": false,
    "run_control": {
     "frozen": false,
     "read_only": false
    }
   },
   "outputs": [],
   "source": [
    "import numpy as np\n",
    "import matplotlib.pyplot as plt\n",
    "from allensdk.api.queries.rma_api import RmaApi\n",
    "from allensdk.api.queries.grid_data_api import GridDataApi\n",
    "from brainmap import AllenVolumetricData, ISHFetcher\n",
    "import sys\n",
    "import os\n",
    "from multiprocessing import Pool\n",
    "import logging\n",
    "logging.basicConfig(stream=sys.stdout, format='%(asctime)s - %(levelname)s - %(message)s', level=logging.WARNING)"
   ]
  },
  {
   "cell_type": "code",
   "execution_count": 2,
   "metadata": {
    "ExecuteTime": {
     "end_time": "2017-06-13T13:55:19.793435",
     "start_time": "2017-06-13T13:55:19.783744"
    },
    "collapsed": false,
    "run_control": {
     "frozen": false,
     "read_only": false
    }
   },
   "outputs": [],
   "source": [
    "rma = RmaApi()\n",
    "fft = ISHFetcher()\n",
    "all_genes = open(\"/home/gioele/IPyNotebook/AllenBrainFiles/genes_allenbrain.txt\").read().rstrip().split(\"\\n\")"
   ]
  },
  {
   "cell_type": "code",
   "execution_count": null,
   "metadata": {
    "ExecuteTime": {
     "end_time": "2017-06-13T01:23:35.995002",
     "start_time": "2017-06-13T01:21:59.755708"
    },
    "collapsed": false,
    "run_control": {
     "frozen": false,
     "read_only": false
    }
   },
   "outputs": [],
   "source": [
    "#for gene in all_genes:\n",
    "#    print(gene)\n",
    "#    fft.download_grid_recent(gene=gene, folder='/home/gioele/IPyNotebook/AllenBrainExpressionGrids/',\n",
    "#                             sag_or_cor='coronal', adu_or_dev='adult', time_point='P56')"
   ]
  },
  {
   "cell_type": "code",
   "execution_count": 3,
   "metadata": {
    "ExecuteTime": {
     "end_time": "2017-06-13T13:55:20.012772",
     "start_time": "2017-06-13T13:55:19.796060"
    },
    "collapsed": true,
    "run_control": {
     "frozen": false,
     "read_only": false
    }
   },
   "outputs": [],
   "source": [
    "N = 40\n",
    "p = Pool(processes=N)\n",
    "fetchers = [ISHFetcher() for i in range(N)]"
   ]
  },
  {
   "cell_type": "code",
   "execution_count": 4,
   "metadata": {
    "ExecuteTime": {
     "end_time": "2017-06-13T13:54:24.813573",
     "start_time": "2017-06-13T13:54:24.775655"
    },
    "collapsed": true,
    "run_control": {
     "frozen": false,
     "read_only": false
    }
   },
   "outputs": [],
   "source": [
    "genes_downloaded = !ls /home/gioele/IPyNotebook/AllenBrainExpressionGrids/\n",
    "#genes_downloaded= [i.split(\"_\")[0] for i in genes_downloaded] "
   ]
  },
  {
   "cell_type": "code",
   "execution_count": null,
   "metadata": {
    "collapsed": true,
    "run_control": {
     "frozen": false,
     "read_only": false
    }
   },
   "outputs": [],
   "source": [
    "# Alternative 1\n",
    "# to_download_genes = all_genes"
   ]
  },
  {
   "cell_type": "code",
   "execution_count": 5,
   "metadata": {
    "ExecuteTime": {
     "end_time": "2017-06-13T13:54:26.905678",
     "start_time": "2017-06-13T13:54:26.843718"
    },
    "collapsed": false,
    "run_control": {
     "frozen": false,
     "read_only": false
    }
   },
   "outputs": [
    {
     "data": {
      "text/plain": [
       "15958"
      ]
     },
     "execution_count": 5,
     "metadata": {},
     "output_type": "execute_result"
    }
   ],
   "source": [
    "# Alternative 2\n",
    "import re\n",
    "regex = re.compile(\"(.*?)coronal(.*?).zip\")\n",
    "coronal_genes = [i.split(\"_\")[0] for i in genes_downloaded if regex.match(i)]\n",
    "to_download_genes = list(set(all_genes) - set(coronal_genes))\n",
    "len(to_download_genes)"
   ]
  },
  {
   "cell_type": "code",
   "execution_count": 6,
   "metadata": {
    "ExecuteTime": {
     "end_time": "2017-06-13T13:54:36.539193",
     "start_time": "2017-06-13T13:54:36.529903"
    },
    "collapsed": true
   },
   "outputs": [],
   "source": [
    "to_download_genes = to_download_genes[::-1]"
   ]
  },
  {
   "cell_type": "code",
   "execution_count": 7,
   "metadata": {
    "ExecuteTime": {
     "end_time": "2017-06-13T13:54:37.230708",
     "start_time": "2017-06-13T13:54:37.224314"
    },
    "collapsed": false,
    "run_control": {
     "frozen": false,
     "read_only": false
    }
   },
   "outputs": [],
   "source": [
    "def download_grid_recent(gene,n,folder, sag_or_cor, adu_or_dev, time_point):\n",
    "    return fetchers[n].download_grid_recent(gene,folder, sag_or_cor, adu_or_dev, time_point)"
   ]
  },
  {
   "cell_type": "code",
   "execution_count": 8,
   "metadata": {
    "ExecuteTime": {
     "end_time": "2017-06-13T13:54:39.293848",
     "start_time": "2017-06-13T13:54:39.279781"
    },
    "collapsed": false,
    "run_control": {
     "frozen": false,
     "read_only": false
    }
   },
   "outputs": [
    {
     "data": {
      "text/plain": [
       "(15958, (15958,))"
      ]
     },
     "execution_count": 8,
     "metadata": {},
     "output_type": "execute_result"
    }
   ],
   "source": [
    "zis = np.tile(np.arange(N), 1 + len(to_download_genes)//N)[:len(to_download_genes)]\n",
    "len(to_download_genes), zis.shape"
   ]
  },
  {
   "cell_type": "code",
   "execution_count": 9,
   "metadata": {
    "ExecuteTime": {
     "end_time": "2017-06-13T13:55:11.491563",
     "start_time": "2017-06-13T13:54:40.021761"
    },
    "collapsed": false,
    "run_control": {
     "frozen": false,
     "read_only": false
    },
    "scrolled": true
   },
   "outputs": [
    {
     "name": "stderr",
     "output_type": "stream",
     "text": [
      "WARNING:root:Experiment Gpr75 was never performed\n",
      "WARNING:root:Experiment A030005K14Rik was never performed\n",
      "WARNING:root:Experiment Tmem67 was never performed\n",
      "WARNING:root:Experiment Morn5 was never performed\n",
      "WARNING:root:Experiment Lrrc48 was never performed\n",
      "WARNING:root:Experiment 1700019B03Rik was never performed\n",
      "WARNING:root:Experiment Prkag2os1 was never performed\n",
      "WARNING:root:Experiment LOC434320 was never performed\n",
      "WARNING:root:Experiment LOC436474 was never performed\n",
      "WARNING:root:Experiment Zfp46 was never performed\n",
      "WARNING:root:Experiment A330069K06Rik was never performed\n",
      "WARNING:root:Experiment Herc1 was never performed\n",
      "WARNING:root:Experiment Nudt16l1 was never performed\n",
      "WARNING:root:Experiment Dhh was never performed\n",
      "WARNING:root:Experiment Tpst2 was never performed\n",
      "WARNING:root:Experiment Coro2a was never performed\n",
      "WARNING:root:Experiment Ccdc102a was never performed\n",
      "WARNING:root:Experiment Psme4 was never performed\n",
      "WARNING:root:Experiment Pbp2 was never performed\n",
      "WARNING:root:Experiment Srek1ip1 was never performed\n",
      "WARNING:root:Experiment Chchd10 was never performed\n",
      "WARNING:root:Experiment Tesk1 was never performed\n",
      "WARNING:root:Experiment 4930546K05Rik was never performed\n",
      "WARNING:root:Experiment Ipmk was never performed\n",
      "WARNING:root:Experiment 9830137J09Rik was never performed\n",
      "WARNING:root:Experiment Eml6 was never performed\n",
      "WARNING:root:Experiment Letm1 was never performed\n",
      "WARNING:root:Experiment Lrrc7 was never performed\n",
      "WARNING:root:Experiment Psma3 was never performed\n",
      "WARNING:root:Experiment Tmem240 was never performed\n",
      "WARNING:root:Experiment Hpdl was never performed\n",
      "WARNING:root:Experiment Polr1a was never performed\n",
      "WARNING:root:Experiment Ddx4 was never performed\n",
      "WARNING:root:Experiment Gpr160 was never performed\n",
      "WARNING:root:Experiment LOC435346 was never performed\n",
      "WARNING:root:Experiment Aaas was never performed\n",
      "WARNING:root:Experiment Pisd-ps1 was never performed\n",
      "WARNING:root:Experiment Muc20 was never performed\n",
      "WARNING:root:Experiment TC1447992 was never performed\n",
      "WARNING:root:Experiment Cyp2j9 was never performed\n",
      "WARNING:root:Experiment Zdhhc22 was never performed\n",
      "WARNING:root:Experiment Tbc1d19 was never performed\n",
      "WARNING:root:Experiment Rassf2 was never performed\n",
      "WARNING:root:Experiment Amica1 was never performed\n",
      "WARNING:root:Experiment Polq was never performed\n",
      "WARNING:root:Experiment Aagab was never performed\n",
      "WARNING:root:Experiment Mrpl3 was never performed\n",
      "WARNING:root:Experiment Isl2 was never performed\n",
      "WARNING:root:Experiment Rhox1 was never performed\n",
      "WARNING:root:Experiment Slc29a2 was never performed\n",
      "WARNING:root:Experiment Higd1c was never performed\n",
      "WARNING:root:Experiment Wdr61 was never performed\n",
      "WARNING:root:Experiment Dhrs1 was never performed\n",
      "WARNING:root:Experiment A230044A09Rik* was never performed\n",
      "WARNING:root:Experiment Tpm4 was never performed\n",
      "WARNING:root:Experiment Idua was never performed\n",
      "WARNING:root:Experiment Lrg1 was never performed\n",
      "WARNING:root:Experiment Fxr1 was never performed\n",
      "WARNING:root:Experiment Gm5737 was never performed\n",
      "WARNING:root:Experiment Col6a6 was never performed\n",
      "WARNING:root:Experiment Dpy19l4 was never performed\n",
      "WARNING:root:Experiment Ftsj2 was never performed\n",
      "WARNING:root:Experiment Adck1 was never performed\n",
      "WARNING:root:Experiment F830004M19Rik was never performed\n",
      "WARNING:root:Experiment Mon2 was never performed\n",
      "WARNING:root:Experiment Bpifc was never performed\n",
      "WARNING:root:Experiment Rgs13 was never performed\n",
      "WARNING:root:Experiment Fam71e2 was never performed\n",
      "WARNING:root:Experiment Efcab5 was never performed\n",
      "WARNING:root:Experiment Nmrk2 was never performed\n",
      "WARNING:root:Experiment Pja1 was never performed\n",
      "WARNING:root:Experiment Chmp6 was never performed\n",
      "WARNING:root:Experiment Sh3gl1 was never performed\n",
      "WARNING:root:Experiment Rbp3 was never performed\n",
      "WARNING:root:Experiment Nrd1 was never performed\n",
      "WARNING:root:Experiment 4930431F10Rik was never performed\n",
      "WARNING:root:Experiment Ttll13 was never performed\n",
      "WARNING:root:Experiment Has1 was never performed\n",
      "WARNING:root:Experiment Cdc7 was never performed\n",
      "WARNING:root:Experiment Tns4 was never performed\n",
      "WARNING:root:Experiment A930017M01Rik was never performed\n",
      "WARNING:root:Experiment Tgoln2 was never performed\n",
      "WARNING:root:Experiment Nudt17 was never performed\n",
      "WARNING:root:Experiment Cadm4 was never performed\n",
      "WARNING:root:Experiment Prap1 was never performed\n",
      "WARNING:root:Experiment Sult1b1 was never performed\n",
      "WARNING:root:Experiment Nkain1 was never performed\n",
      "WARNING:root:Experiment Tmc5 was never performed\n",
      "WARNING:root:Experiment Thap2 was never performed\n",
      "WARNING:root:Experiment Fermt3 was never performed\n",
      "WARNING:root:Experiment Nol8 was never performed\n",
      "WARNING:root:Experiment Nfat5 was never performed\n",
      "WARNING:root:Experiment Dtymk was never performed\n",
      "WARNING:root:Experiment Bik was never performed\n",
      "WARNING:root:Experiment Scfd1 was never performed\n",
      "WARNING:root:Experiment LOC433109 was never performed\n",
      "WARNING:root:Experiment Csmd3 was never performed\n",
      "WARNING:root:Experiment Ocln was never performed\n",
      "WARNING:root:Experiment Blvrb was never performed\n",
      "WARNING:root:Experiment Nthl1 was never performed\n",
      "WARNING:root:Experiment Gm11823 was never performed\n",
      "WARNING:root:Experiment 1700010L04Rik was never performed\n",
      "WARNING:root:Experiment Krtap2-4 was never performed\n",
      "WARNING:root:Experiment Radil was never performed\n",
      "WARNING:root:Experiment Eldr was never performed\n",
      "WARNING:root:Experiment Rrnad1 was never performed\n",
      "WARNING:root:Experiment Plekhm1 was never performed\n",
      "WARNING:root:Experiment Csnk1g2 was never performed\n",
      "WARNING:root:Experiment Smurf1 was never performed\n",
      "WARNING:root:Experiment Krt4 was never performed\n",
      "WARNING:root:Experiment Brpf1 was never performed\n",
      "WARNING:root:Experiment Adrb2 was never performed\n",
      "WARNING:root:Experiment Bahcc1 was never performed\n",
      "WARNING:root:Experiment Tmem207 was never performed\n",
      "WARNING:root:Experiment Defb41 was never performed\n",
      "WARNING:root:Experiment Rad17 was never performed\n",
      "WARNING:root:Experiment Zcchc14 was never performed\n",
      "WARNING:root:Experiment Sbp was never performed\n",
      "WARNING:root:Experiment Cldn23 was never performed\n",
      "WARNING:root:Experiment Taf9b was never performed\n",
      "WARNING:root:Experiment Sepp1 was never performed\n",
      "WARNING:root:Experiment Cpox was never performed\n",
      "WARNING:root:Experiment Zpr1 was never performed\n",
      "WARNING:root:Experiment Pik3ap1 was never performed\n",
      "WARNING:root:Experiment Fam13c was never performed\n",
      "WARNING:root:Experiment Elk4 was never performed\n",
      "WARNING:root:Experiment Rad23a was never performed\n",
      "WARNING:root:Experiment Ptpla was never performed\n",
      "WARNING:root:Experiment Prol1 was never performed\n",
      "WARNING:root:Experiment Kbtbd4 was never performed\n",
      "WARNING:root:Experiment Treml4 was never performed\n",
      "WARNING:root:Experiment Otub1 was never performed\n",
      "WARNING:root:Experiment Ccr3 was never performed\n",
      "WARNING:root:Experiment Gata1 was never performed\n",
      "WARNING:root:Experiment Calm4 was never performed\n",
      "WARNING:root:Experiment Abca12 was never performed\n",
      "WARNING:root:Experiment Spanxn4 was never performed\n",
      "WARNING:root:Experiment Mavs was never performed\n",
      "WARNING:root:Experiment Tmem102 was never performed\n",
      "WARNING:root:Experiment C530025M09Rik was never performed\n",
      "WARNING:root:Experiment Cad was never performed\n",
      "WARNING:root:Experiment LOC434420 was never performed\n",
      "WARNING:root:Experiment Spg7 was never performed\n",
      "Process ForkPoolWorker-78:\n",
      "  File \"/home/gioele/anaconda2/envs/py35-env/lib/python3.5/multiprocessing/pool.py\", line 119, in worker\n",
      "    result = (True, func(*args, **kwds))\n",
      "Process ForkPoolWorker-76:\n",
      "Process ForkPoolWorker-65:\n",
      "Process ForkPoolWorker-69:\n",
      "Process ForkPoolWorker-67:\n",
      "Process ForkPoolWorker-73:\n",
      "Process ForkPoolWorker-71:\n",
      "Process ForkPoolWorker-57:\n",
      "Process ForkPoolWorker-74:\n",
      "Process ForkPoolWorker-56:\n",
      "Process ForkPoolWorker-64:\n",
      "Process ForkPoolWorker-72:\n",
      "Process ForkPoolWorker-75:\n",
      "Process ForkPoolWorker-42:\n",
      "Process ForkPoolWorker-44:\n",
      "Process ForkPoolWorker-49:\n",
      "Process ForkPoolWorker-50:\n",
      "Process ForkPoolWorker-46:\n",
      "Process ForkPoolWorker-45:\n",
      "Process ForkPoolWorker-59:\n",
      "Process ForkPoolWorker-63:\n",
      "Process ForkPoolWorker-43:\n",
      "Process ForkPoolWorker-77:\n",
      "Process ForkPoolWorker-70:\n",
      "Process ForkPoolWorker-48:\n",
      "Process ForkPoolWorker-51:\n",
      "Process ForkPoolWorker-53:\n",
      "Process ForkPoolWorker-62:\n",
      "Process ForkPoolWorker-55:\n",
      "Process ForkPoolWorker-47:\n",
      "Process ForkPoolWorker-52:\n",
      "Process ForkPoolWorker-66:\n",
      "Process ForkPoolWorker-79:\n",
      "Process ForkPoolWorker-61:\n",
      "Process ForkPoolWorker-60:\n",
      "Process ForkPoolWorker-41:\n",
      "Process ForkPoolWorker-68:\n",
      "Process ForkPoolWorker-54:\n",
      "Process ForkPoolWorker-80:\n",
      "Process ForkPoolWorker-58:\n",
      "Traceback (most recent call last):\n",
      "Traceback (most recent call last):\n",
      "Traceback (most recent call last):\n",
      "Traceback (most recent call last):\n",
      "Traceback (most recent call last):\n",
      "Traceback (most recent call last):\n",
      "Traceback (most recent call last):\n",
      "Traceback (most recent call last):\n",
      "Traceback (most recent call last):\n",
      "Traceback (most recent call last):\n",
      "Traceback (most recent call last):\n",
      "Traceback (most recent call last):\n",
      "Traceback (most recent call last):\n",
      "Traceback (most recent call last):\n",
      "Traceback (most recent call last):\n",
      "Traceback (most recent call last):\n",
      "Traceback (most recent call last):\n",
      "Traceback (most recent call last):\n",
      "Traceback (most recent call last):\n",
      "Traceback (most recent call last):\n",
      "Traceback (most recent call last):\n",
      "Traceback (most recent call last):\n",
      "  File \"/home/gioele/anaconda2/envs/py35-env/lib/python3.5/multiprocessing/process.py\", line 249, in _bootstrap\n",
      "    self.run()\n",
      "Traceback (most recent call last):\n",
      "  File \"/home/gioele/anaconda2/envs/py35-env/lib/python3.5/multiprocessing/process.py\", line 249, in _bootstrap\n",
      "    self.run()\n",
      "Traceback (most recent call last):\n",
      "  File \"/home/gioele/anaconda2/envs/py35-env/lib/python3.5/multiprocessing/process.py\", line 249, in _bootstrap\n",
      "    self.run()\n",
      "Traceback (most recent call last):\n",
      "  File \"/home/gioele/anaconda2/envs/py35-env/lib/python3.5/multiprocessing/process.py\", line 249, in _bootstrap\n",
      "    self.run()\n",
      "Traceback (most recent call last):\n",
      "Traceback (most recent call last):\n",
      "Traceback (most recent call last):\n",
      "  File \"/home/gioele/anaconda2/envs/py35-env/lib/python3.5/multiprocessing/process.py\", line 249, in _bootstrap\n",
      "    self.run()\n",
      "Traceback (most recent call last):\n",
      "  File \"/home/gioele/anaconda2/envs/py35-env/lib/python3.5/multiprocessing/process.py\", line 249, in _bootstrap\n",
      "    self.run()\n",
      "  File \"/home/gioele/anaconda2/envs/py35-env/lib/python3.5/multiprocessing/process.py\", line 249, in _bootstrap\n",
      "    self.run()\n",
      "  File \"/home/gioele/anaconda2/envs/py35-env/lib/python3.5/multiprocessing/process.py\", line 249, in _bootstrap\n",
      "    self.run()\n",
      "Traceback (most recent call last):\n",
      "Traceback (most recent call last):\n",
      "Traceback (most recent call last):\n",
      "  File \"/home/gioele/anaconda2/envs/py35-env/lib/python3.5/multiprocessing/process.py\", line 249, in _bootstrap\n",
      "    self.run()\n",
      "Traceback (most recent call last):\n",
      "  File \"/home/gioele/anaconda2/envs/py35-env/lib/python3.5/multiprocessing/process.py\", line 249, in _bootstrap\n",
      "    self.run()\n",
      "  File \"/home/gioele/anaconda2/envs/py35-env/lib/python3.5/multiprocessing/process.py\", line 249, in _bootstrap\n",
      "    self.run()\n",
      "Traceback (most recent call last):\n",
      "  File \"/home/gioele/anaconda2/envs/py35-env/lib/python3.5/multiprocessing/process.py\", line 249, in _bootstrap\n",
      "    self.run()\n",
      "Traceback (most recent call last):\n",
      "  File \"/home/gioele/anaconda2/envs/py35-env/lib/python3.5/multiprocessing/process.py\", line 249, in _bootstrap\n",
      "    self.run()\n",
      "Traceback (most recent call last):\n"
     ]
    },
    {
     "name": "stdout",
     "output_type": "stream",
     "text": [
      "you terminated the program\n"
     ]
    },
    {
     "name": "stderr",
     "output_type": "stream",
     "text": [
      "Traceback (most recent call last):\n",
      "  File \"/home/gioele/anaconda2/envs/py35-env/lib/python3.5/multiprocessing/process.py\", line 249, in _bootstrap\n",
      "    self.run()\n",
      "  File \"/home/gioele/anaconda2/envs/py35-env/lib/python3.5/multiprocessing/process.py\", line 249, in _bootstrap\n",
      "    self.run()\n",
      "  File \"/home/gioele/anaconda2/envs/py35-env/lib/python3.5/multiprocessing/process.py\", line 249, in _bootstrap\n",
      "    self.run()\n",
      "Traceback (most recent call last):\n",
      "  File \"/home/gioele/anaconda2/envs/py35-env/lib/python3.5/multiprocessing/process.py\", line 249, in _bootstrap\n",
      "    self.run()\n"
     ]
    }
   ],
   "source": [
    "try:\n",
    "    for gene, zi in zip(to_download_genes, zis):\n",
    "        p.apply_async(download_grid_recent,\n",
    "                      (gene,),\n",
    "                      dict(n=zi,folder='/home/gioele/IPyNotebook/AllenBrainExpressionGrids/',\n",
    "                           sag_or_cor='coronal', adu_or_dev='adult', time_point='P56'))\n",
    "    p.close()\n",
    "    p.join()\n",
    "except KeyboardInterrupt:\n",
    "    p.terminate()\n",
    "    print(\"you terminated the program\")"
   ]
  },
  {
   "cell_type": "code",
   "execution_count": null,
   "metadata": {
    "ExecuteTime": {
     "start_time": "2017-06-13T10:48:09.696Z"
    },
    "collapsed": true,
    "run_control": {
     "frozen": false,
     "read_only": false
    }
   },
   "outputs": [],
   "source": [
    "\"a\""
   ]
  },
  {
   "cell_type": "code",
   "execution_count": 4,
   "metadata": {
    "ExecuteTime": {
     "end_time": "2017-06-13T13:55:29.730668",
     "start_time": "2017-06-13T13:55:29.682401"
    },
    "collapsed": true,
    "run_control": {
     "frozen": false,
     "read_only": false
    }
   },
   "outputs": [],
   "source": [
    "genes_downloaded = !ls /home/gioele/IPyNotebook/AllenBrainExpressionGrids/\n",
    "genes_downloaded= [i.split(\"_\")[0] for i in genes_downloaded] "
   ]
  },
  {
   "cell_type": "code",
   "execution_count": 5,
   "metadata": {
    "ExecuteTime": {
     "end_time": "2017-06-13T13:55:30.098004",
     "start_time": "2017-06-13T13:55:30.065727"
    },
    "collapsed": false,
    "run_control": {
     "frozen": false,
     "read_only": false
    }
   },
   "outputs": [
    {
     "data": {
      "text/plain": [
       "12025"
      ]
     },
     "execution_count": 5,
     "metadata": {},
     "output_type": "execute_result"
    }
   ],
   "source": [
    "to_download_genes = list(set(all_genes) - set(genes_downloaded))\n",
    "len(to_download_genes)"
   ]
  },
  {
   "cell_type": "code",
   "execution_count": 13,
   "metadata": {
    "ExecuteTime": {
     "end_time": "2017-06-13T13:56:30.341871",
     "start_time": "2017-06-13T13:56:30.030864"
    },
    "collapsed": false,
    "run_control": {
     "frozen": false,
     "read_only": false
    }
   },
   "outputs": [],
   "source": [
    "N = 40\n",
    "p = Pool(processes=N)\n",
    "fetchers = [ISHFetcher() for i in range(N)]"
   ]
  },
  {
   "cell_type": "code",
   "execution_count": 14,
   "metadata": {
    "ExecuteTime": {
     "end_time": "2017-06-13T13:56:31.471723",
     "start_time": "2017-06-13T13:56:31.462332"
    },
    "collapsed": true,
    "run_control": {
     "frozen": false,
     "read_only": false
    }
   },
   "outputs": [],
   "source": [
    "def download_grid_recent(gene,n,folder, sag_or_cor, adu_or_dev, time_point):\n",
    "    return fetchers[n].download_grid_recent(gene,folder, sag_or_cor, adu_or_dev, time_point)"
   ]
  },
  {
   "cell_type": "code",
   "execution_count": 15,
   "metadata": {
    "ExecuteTime": {
     "end_time": "2017-06-13T13:56:33.347238",
     "start_time": "2017-06-13T13:56:33.337569"
    },
    "collapsed": false,
    "run_control": {
     "frozen": false,
     "read_only": false
    }
   },
   "outputs": [
    {
     "data": {
      "text/plain": [
       "(12025, (12025,))"
      ]
     },
     "execution_count": 15,
     "metadata": {},
     "output_type": "execute_result"
    }
   ],
   "source": [
    "zis = np.tile(np.arange(N), 1 + len(to_download_genes)//N)[:len(to_download_genes)]\n",
    "len(to_download_genes), zis.shape"
   ]
  },
  {
   "cell_type": "code",
   "execution_count": null,
   "metadata": {
    "ExecuteTime": {
     "start_time": "2017-06-13T12:10:10.815Z"
    },
    "collapsed": true,
    "run_control": {
     "frozen": false,
     "read_only": false
    }
   },
   "outputs": [],
   "source": [
    "try:\n",
    "    for gene, zi in zip(to_download_genes, zis):\n",
    "        p.apply_async(download_grid_recent,\n",
    "                      (gene,),\n",
    "                      dict(n=zi,folder='/home/gioele/IPyNotebook/AllenBrainExpressionGrids/',\n",
    "                           sag_or_cor='sagittal', adu_or_dev='adult', time_point='P56'))\n",
    "    p.close()\n",
    "    p.join()\n",
    "except KeyboardInterrupt:\n",
    "    p.terminate()\n",
    "    print(\"you terminated the program\")"
   ]
  },
  {
   "cell_type": "code",
   "execution_count": 36,
   "metadata": {
    "ExecuteTime": {
     "end_time": "2017-06-13T12:04:01.110199",
     "start_time": "2017-06-13T12:04:01.102754"
    },
    "collapsed": false,
    "run_control": {
     "frozen": false,
     "read_only": false
    }
   },
   "outputs": [
    {
     "data": {
      "text/plain": [
       "'a'"
      ]
     },
     "execution_count": 36,
     "metadata": {},
     "output_type": "execute_result"
    }
   ],
   "source": [
    "\"a\""
   ]
  },
  {
   "cell_type": "code",
   "execution_count": null,
   "metadata": {
    "collapsed": true,
    "run_control": {
     "frozen": false,
     "read_only": false
    }
   },
   "outputs": [],
   "source": []
  }
 ],
 "metadata": {
  "anaconda-cloud": {},
  "hide_input": false,
  "kernelspec": {
   "display_name": "Python 3",
   "language": "python",
   "name": "python3"
  },
  "language_info": {
   "codemirror_mode": {
    "name": "ipython",
    "version": 3
   },
   "file_extension": ".py",
   "mimetype": "text/x-python",
   "name": "python",
   "nbconvert_exporter": "python",
   "pygments_lexer": "ipython3",
   "version": "3.5.2"
  }
 },
 "nbformat": 4,
 "nbformat_minor": 1
}
