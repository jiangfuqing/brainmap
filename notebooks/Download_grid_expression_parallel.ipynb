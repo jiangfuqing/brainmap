{
 "cells": [
  {
   "cell_type": "code",
   "execution_count": 1,
   "metadata": {
    "ExecuteTime": {
     "end_time": "2017-06-13T12:06:57.692580",
     "start_time": "2017-06-13T12:06:56.217294"
    },
    "collapsed": false,
    "run_control": {
     "frozen": false,
     "read_only": false
    }
   },
   "outputs": [],
   "source": [
    "import numpy as np\n",
    "import matplotlib.pyplot as plt\n",
    "from allensdk.api.queries.rma_api import RmaApi\n",
    "from allensdk.api.queries.grid_data_api import GridDataApi\n",
    "from brainmap import AllenVolumetricData, ISHFetcher\n",
    "import sys\n",
    "import os\n",
    "from multiprocessing import Pool"
   ]
  },
  {
   "cell_type": "code",
   "execution_count": 2,
   "metadata": {
    "ExecuteTime": {
     "end_time": "2017-06-13T12:06:57.707776",
     "start_time": "2017-06-13T12:06:57.697091"
    },
    "collapsed": false,
    "run_control": {
     "frozen": false,
     "read_only": false
    }
   },
   "outputs": [],
   "source": [
    "rma = RmaApi()\n",
    "fft = ISHFetcher()\n",
    "all_genes = open(\"/home/gioele/IPyNotebook/AllenBrainFiles/genes_allenbrain.txt\").read().rstrip().split(\"\\n\")"
   ]
  },
  {
   "cell_type": "code",
   "execution_count": null,
   "metadata": {
    "ExecuteTime": {
     "end_time": "2017-06-13T01:23:35.995002",
     "start_time": "2017-06-13T01:21:59.755708"
    },
    "collapsed": false,
    "run_control": {
     "frozen": false,
     "read_only": false
    }
   },
   "outputs": [],
   "source": [
    "#for gene in all_genes:\n",
    "#    print(gene)\n",
    "#    fft.download_grid_recent(gene=gene, folder='/home/gioele/IPyNotebook/AllenBrainExpressionGrids/',\n",
    "#                             sag_or_cor='coronal', adu_or_dev='adult', time_point='P56')"
   ]
  },
  {
   "cell_type": "code",
   "execution_count": 5,
   "metadata": {
    "ExecuteTime": {
     "end_time": "2017-06-13T12:07:16.194920",
     "start_time": "2017-06-13T12:07:15.717502"
    },
    "collapsed": true,
    "run_control": {
     "frozen": false,
     "read_only": false
    }
   },
   "outputs": [],
   "source": [
    "N = 40\n",
    "p = Pool(processes=N)\n",
    "fetchers = [ISHFetcher() for i in range(N)]"
   ]
  },
  {
   "cell_type": "code",
   "execution_count": 7,
   "metadata": {
    "ExecuteTime": {
     "end_time": "2017-06-13T12:08:15.727436",
     "start_time": "2017-06-13T12:08:15.659529"
    },
    "collapsed": true
   },
   "outputs": [],
   "source": [
    "genes_downloaded = !ls /home/gioele/IPyNotebook/AllenBrainExpressionGrids/\n",
    "#genes_downloaded= [i.split(\"_\")[0] for i in genes_downloaded] "
   ]
  },
  {
   "cell_type": "code",
   "execution_count": null,
   "metadata": {
    "collapsed": true
   },
   "outputs": [],
   "source": [
    "# Alternative 1\n",
    "# to_download_genes = all_genes"
   ]
  },
  {
   "cell_type": "code",
   "execution_count": 12,
   "metadata": {
    "ExecuteTime": {
     "end_time": "2017-06-13T12:10:57.852201",
     "start_time": "2017-06-13T12:10:57.813159"
    },
    "collapsed": false
   },
   "outputs": [
    {
     "data": {
      "text/plain": [
       "15958"
      ]
     },
     "execution_count": 12,
     "metadata": {},
     "output_type": "execute_result"
    }
   ],
   "source": [
    "# Alternative 2\n",
    "import re\n",
    "regex = re.compile(\"(.*?)coronal(.*?).zip\")\n",
    "coronal_genes = [i.split(\"_\")[0] for i in genes_downloaded if regex.match(i)]\n",
    "to_download_genes = list(set(all_genes) - set(coronal_genes))\n",
    "len(to_download_genes)"
   ]
  },
  {
   "cell_type": "code",
   "execution_count": 16,
   "metadata": {
    "ExecuteTime": {
     "end_time": "2017-06-13T12:11:42.020408",
     "start_time": "2017-06-13T12:11:42.015533"
    },
    "collapsed": false,
    "run_control": {
     "frozen": false,
     "read_only": false
    }
   },
   "outputs": [],
   "source": [
    "def download_grid_recent(gene,n,folder, sag_or_cor, adu_or_dev, time_point):\n",
    "    return fetchers[n].download_grid_recent(gene,folder, sag_or_cor, adu_or_dev, time_point)"
   ]
  },
  {
   "cell_type": "code",
   "execution_count": 17,
   "metadata": {
    "ExecuteTime": {
     "end_time": "2017-06-13T12:11:42.493907",
     "start_time": "2017-06-13T12:11:42.484853"
    },
    "collapsed": false
   },
   "outputs": [
    {
     "data": {
      "text/plain": [
       "(15958, (15958,))"
      ]
     },
     "execution_count": 17,
     "metadata": {},
     "output_type": "execute_result"
    }
   ],
   "source": [
    "zis = np.tile(np.arange(N), 1 + len(to_download_genes)//N)[:len(to_download_genes)]\n",
    "len(to_download_genes), zis.shape"
   ]
  },
  {
   "cell_type": "code",
   "execution_count": null,
   "metadata": {
    "ExecuteTime": {
     "start_time": "2017-06-13T10:25:25.315Z"
    },
    "collapsed": false,
    "run_control": {
     "frozen": false,
     "read_only": false
    },
    "scrolled": true
   },
   "outputs": [
    {
     "name": "stderr",
     "output_type": "stream",
     "text": [
      "WARNING:root:Experiment Tsen15 was never performed\n",
      "WARNING:root:Experiment Gm4166 was never performed\n",
      "WARNING:root:Experiment LOC433015 was never performed\n",
      "WARNING:root:Experiment Mei4 was never performed\n",
      "WARNING:root:Experiment Mov10l1 was never performed\n",
      "WARNING:root:Experiment Mtfr1l was never performed\n",
      "WARNING:root:Experiment Unc50 was never performed\n",
      "WARNING:root:Experiment Cxx1a was never performed\n",
      "WARNING:root:Experiment Htatsf1 was never performed\n",
      "WARNING:root:Experiment Aspn was never performed\n",
      "WARNING:root:Experiment Cbr4 was never performed\n",
      "WARNING:root:Experiment 2310014L17Rik was never performed\n",
      "WARNING:root:Experiment Nhp2 was never performed\n",
      "WARNING:root:Experiment 4833423E24Rik was never performed\n",
      "WARNING:root:Experiment LOC432872 was never performed\n",
      "WARNING:root:Experiment Tbc1d10a was never performed\n",
      "WARNING:root:Experiment Agk was never performed\n",
      "WARNING:root:Experiment Dpep2 was never performed\n",
      "WARNING:root:Experiment Actr3 was never performed\n",
      "WARNING:root:Experiment Pea15b was never performed\n",
      "WARNING:root:Experiment 1700069B07Rik was never performed\n",
      "WARNING:root:Experiment Cyp2e1 was never performed\n",
      "WARNING:root:Experiment Dnajb2 was never performed\n",
      "WARNING:root:Experiment Sh3rf3 was never performed\n",
      "WARNING:root:Experiment Arhgap24 was never performed\n",
      "WARNING:root:Experiment E030013D07Rik* was never performed\n",
      "WARNING:root:Experiment Tpx2 was never performed\n",
      "WARNING:root:Experiment Bpi was never performed\n",
      "WARNING:root:Experiment Olfr576 was never performed\n",
      "WARNING:root:Experiment Gm933 was never performed\n",
      "WARNING:root:Experiment Rpl5 was never performed\n",
      "WARNING:root:Experiment Kynu was never performed\n",
      "WARNING:root:Experiment Cacfd1 was never performed\n",
      "WARNING:root:Experiment Ccl25 was never performed\n",
      "WARNING:root:Experiment Rad54l was never performed\n",
      "WARNING:root:Experiment G6pc2 was never performed\n",
      "WARNING:root:Experiment Rbms1 was never performed\n",
      "WARNING:root:Experiment Fam57a was never performed\n",
      "WARNING:root:Experiment Mlh3 was never performed\n",
      "WARNING:root:Experiment Epm2aip1 was never performed\n",
      "WARNING:root:Experiment Adm2 was never performed\n",
      "WARNING:root:Experiment Tssk1 was never performed\n",
      "WARNING:root:Experiment Itgad was never performed\n",
      "WARNING:root:Experiment Usp18 was never performed\n",
      "WARNING:root:Experiment Tab2 was never performed\n",
      "WARNING:root:Experiment Pip5k1a was never performed\n",
      "WARNING:root:Experiment Ift122 was never performed\n",
      "WARNING:root:Experiment Adh6a was never performed\n",
      "WARNING:root:Experiment Sdha was never performed\n",
      "WARNING:root:Experiment Accsl was never performed\n",
      "WARNING:root:Experiment Pi4k2b was never performed\n",
      "WARNING:root:Experiment LOC546014 was never performed\n",
      "WARNING:root:Experiment Naaladl1 was never performed\n",
      "WARNING:root:Experiment Btk was never performed\n",
      "WARNING:root:Experiment F530110H13Rik* was never performed\n",
      "WARNING:root:Experiment Exo1 was never performed\n",
      "WARNING:root:Experiment Pcbd2 was never performed\n",
      "WARNING:root:Experiment Gpx8 was never performed\n",
      "WARNING:root:Experiment Elac1 was never performed\n",
      "WARNING:root:Experiment Zc3h7b was never performed\n",
      "WARNING:root:Experiment Olfr282 was never performed\n",
      "WARNING:root:Experiment Gpr142 was never performed\n",
      "WARNING:root:Experiment LOC433701 was never performed\n",
      "WARNING:root:Experiment Ramp2 was never performed\n",
      "WARNING:root:Experiment Mrpl3 was never performed\n",
      "WARNING:root:Experiment Inadl was never performed\n",
      "WARNING:root:Experiment Dync2li1 was never performed\n",
      "WARNING:root:Experiment Zfp945 was never performed\n",
      "WARNING:root:Experiment Crtam was never performed\n",
      "WARNING:root:Experiment Eftud2 was never performed\n",
      "WARNING:root:Experiment Entpd7 was never performed\n",
      "WARNING:root:Experiment 3110002H16Rik was never performed\n",
      "WARNING:root:Experiment Fosb was never performed\n",
      "WARNING:root:Experiment Plscr2 was never performed\n",
      "WARNING:root:Experiment 4930562C15Rik was never performed\n",
      "WARNING:root:Experiment Pnliprp2 was never performed\n",
      "WARNING:root:Experiment Lrrc58 was never performed\n",
      "WARNING:root:Experiment Enoph1 was never performed\n",
      "WARNING:root:Experiment Abca4 was never performed\n",
      "WARNING:root:Experiment Ifnz was never performed\n",
      "WARNING:root:Experiment Thnsl2 was never performed\n",
      "WARNING:root:Experiment Ube2l6 was never performed\n",
      "WARNING:root:Experiment Onecut3 was never performed\n",
      "WARNING:root:Experiment Rnase2a was never performed\n",
      "WARNING:root:Experiment Pou3f4 was never performed\n",
      "WARNING:root:Experiment Fbxo4 was never performed\n",
      "WARNING:root:Experiment F830208N12Rik* was never performed\n",
      "WARNING:root:Experiment Sephs2 was never performed\n",
      "WARNING:root:Experiment Erg was never performed\n",
      "WARNING:root:Experiment Exosc2 was never performed\n",
      "WARNING:root:Experiment Phf21a was never performed\n",
      "WARNING:root:Experiment Rpp14 was never performed\n",
      "WARNING:root:Experiment 5530401A14Rik was never performed\n",
      "WARNING:root:Experiment Krt12 was never performed\n",
      "WARNING:root:Experiment Efcab7 was never performed\n",
      "WARNING:root:Experiment Ly9 was never performed\n",
      "WARNING:root:Experiment 2310007B03Rik was never performed\n",
      "WARNING:root:Experiment LOC433501 was never performed\n",
      "WARNING:root:Experiment Myl12b was never performed\n",
      "WARNING:root:Experiment Atp6v1c1 was never performed\n",
      "WARNING:root:Experiment 3010085J16Rik* was never performed\n",
      "WARNING:root:Experiment Aspscr1 was never performed\n",
      "WARNING:root:Experiment Dock3 was never performed\n",
      "WARNING:root:Experiment Tmem57 was never performed\n",
      "WARNING:root:Experiment Il12b was never performed\n",
      "WARNING:root:Experiment Chka was never performed\n",
      "WARNING:root:Experiment Serp2 was never performed\n",
      "WARNING:root:Experiment G530133B12Rik* was never performed\n",
      "WARNING:root:Experiment Rassf10 was never performed\n",
      "WARNING:root:Experiment LOC433997 was never performed\n",
      "WARNING:root:Experiment C630007G15Rik* was never performed\n",
      "WARNING:root:Experiment Diap2 was never performed\n",
      "WARNING:root:Experiment Usp29 was never performed\n",
      "WARNING:root:Experiment Zfand4 was never performed\n",
      "WARNING:root:Experiment Sctr was never performed\n",
      "WARNING:root:Experiment Chek2 was never performed\n",
      "WARNING:root:Experiment Apof was never performed\n",
      "WARNING:root:Experiment Tmem88 was never performed\n",
      "WARNING:root:Experiment Abca1 was never performed\n",
      "WARNING:root:Experiment Rnps1 was never performed\n",
      "WARNING:root:Experiment Gzmf was never performed\n",
      "WARNING:root:Experiment LOC434382 was never performed\n",
      "WARNING:root:Experiment Lman1l was never performed\n",
      "WARNING:root:Experiment 9130017K11Rik was never performed\n",
      "WARNING:root:Experiment F2 was never performed\n",
      "WARNING:root:Experiment Dnah8 was never performed\n",
      "WARNING:root:Experiment Mrgprh was never performed\n",
      "WARNING:root:Experiment Sepp1 was never performed\n",
      "WARNING:root:Experiment A630043P06 was never performed\n",
      "WARNING:root:Experiment 4930548G14Rik was never performed\n",
      "WARNING:root:Experiment Hormad2 was never performed\n",
      "WARNING:root:Experiment Ago4 was never performed\n",
      "WARNING:root:Experiment Cass4 was never performed\n",
      "WARNING:root:Experiment Gm1715 was never performed\n",
      "WARNING:root:Experiment Clpb was never performed\n",
      "WARNING:root:Experiment Nelfe was never performed\n",
      "WARNING:root:Experiment Kat6a was never performed\n",
      "WARNING:root:Experiment Nrip2 was never performed\n",
      "WARNING:root:Experiment Cabs1 was never performed\n",
      "WARNING:root:Experiment Eng was never performed\n",
      "WARNING:root:Experiment Slc5a5 was never performed\n",
      "WARNING:root:Experiment Lemd1 was never performed\n",
      "WARNING:root:Experiment 4931429L15Rik was never performed\n",
      "WARNING:root:Experiment Sytl1 was never performed\n",
      "WARNING:root:Experiment Rbp3 was never performed\n",
      "WARNING:root:Experiment Zfp474 was never performed\n",
      "WARNING:root:Experiment Ppp1r3d was never performed\n",
      "WARNING:root:Experiment Reg4 was never performed\n",
      "WARNING:root:Experiment Adra2c was never performed\n",
      "WARNING:root:Experiment Zcchc14 was never performed\n",
      "WARNING:root:Experiment Cd209c was never performed\n",
      "WARNING:root:Experiment P4htm was never performed\n",
      "WARNING:root:Experiment 6820433M10Rik* was never performed\n",
      "WARNING:root:Experiment Gm14200 was never performed\n",
      "WARNING:root:Experiment Ccdc63 was never performed\n",
      "WARNING:root:Experiment Banf2 was never performed\n",
      "WARNING:root:Experiment Glyr1 was never performed\n",
      "WARNING:root:Experiment Hrsp12 was never performed\n",
      "WARNING:root:Experiment Mob1b was never performed\n",
      "WARNING:root:Experiment Hoxb5 was never performed\n",
      "WARNING:root:Experiment S1pr4 was never performed\n",
      "WARNING:root:Experiment Gm815 was never performed\n",
      "WARNING:root:Experiment Prkd1 was never performed\n",
      "WARNING:root:Experiment Tmem221 was never performed\n",
      "WARNING:root:Experiment 4930579F01Rik was never performed\n",
      "WARNING:root:Experiment Lrcol1 was never performed\n",
      "WARNING:root:Experiment Dhtkd1 was never performed\n",
      "WARNING:root:Experiment Sec14l4 was never performed\n",
      "WARNING:root:Experiment Spaca7 was never performed\n",
      "WARNING:root:Experiment Atxn2l was never performed\n",
      "WARNING:root:Experiment LOC432476 was never performed\n",
      "WARNING:root:Experiment Mst1 was never performed\n",
      "WARNING:root:Experiment Slc25a33 was never performed\n",
      "WARNING:root:Experiment Tmem63b was never performed\n",
      "WARNING:root:Experiment Kcmf1 was never performed\n",
      "WARNING:root:Experiment Htatip2 was never performed\n",
      "WARNING:root:Experiment F830018J01Rik* was never performed\n",
      "WARNING:root:Experiment Rab40c was never performed\n",
      "WARNING:root:Experiment Mm.119051 was never performed\n",
      "WARNING:root:Experiment Mill2 was never performed\n",
      "WARNING:root:Experiment Slain2 was never performed\n",
      "WARNING:root:Experiment Mkrn2os was never performed\n",
      "WARNING:root:Experiment Eif4e2 was never performed\n",
      "WARNING:root:Experiment Jade3 was never performed\n",
      "WARNING:root:Experiment Catsper3 was never performed\n",
      "WARNING:root:Experiment Sept8 was never performed\n",
      "WARNING:root:Experiment Rhebl1 was never performed\n",
      "WARNING:root:Experiment Zfp282 was never performed\n",
      "WARNING:root:Experiment B930041F14Rik was never performed\n",
      "WARNING:root:Experiment Dld was never performed\n",
      "WARNING:root:Experiment Nucb1 was never performed\n",
      "WARNING:root:Experiment 4933431E20Rik was never performed\n",
      "WARNING:root:Experiment Rnpep was never performed\n",
      "WARNING:root:Experiment Ddx1 was never performed\n",
      "WARNING:root:Experiment Ccdc117 was never performed\n",
      "WARNING:root:Experiment Shisa3 was never performed\n",
      "WARNING:root:Experiment Arhgef10l was never performed\n",
      "WARNING:root:Experiment Zfx was never performed\n",
      "WARNING:root:Experiment Zfp169 was never performed\n",
      "WARNING:root:Experiment Akip1 was never performed\n",
      "WARNING:root:Experiment Eif1 was never performed\n",
      "WARNING:root:Experiment Hoxa7 was never performed\n",
      "WARNING:root:Experiment Ndufa1 was never performed\n",
      "WARNING:root:Experiment Bmp6 was never performed\n",
      "WARNING:root:Experiment Sarnp was never performed\n",
      "WARNING:root:Experiment Cgn was never performed\n",
      "WARNING:root:Experiment BC055111 was never performed\n",
      "WARNING:root:Experiment Rngtt was never performed\n",
      "WARNING:root:Experiment Snai1 was never performed\n",
      "WARNING:root:Experiment Glmn was never performed\n",
      "WARNING:root:Experiment Gimap6 was never performed\n",
      "WARNING:root:Experiment mCG2521.2 was never performed\n",
      "WARNING:root:Experiment Igh-VS107 was never performed\n",
      "WARNING:root:Experiment U2af2 was never performed\n",
      "WARNING:root:Experiment Tpsg1 was never performed\n",
      "WARNING:root:Experiment Ppcdc was never performed\n",
      "WARNING:root:Experiment Zfp689 was never performed\n",
      "WARNING:root:Experiment 1600002D24Rik was never performed\n",
      "WARNING:root:Experiment Tpgs2 was never performed\n",
      "WARNING:root:Experiment Gm9866 was never performed\n",
      "WARNING:root:Experiment Klhl15 was never performed\n",
      "WARNING:root:Experiment Dhh was never performed\n",
      "WARNING:root:Experiment Lgals4 was never performed\n",
      "WARNING:root:Experiment Bclaf1 was never performed\n",
      "WARNING:root:Experiment Plb1 was never performed\n",
      "WARNING:root:Experiment Fam163a was never performed\n",
      "WARNING:root:Experiment Eid2b was never performed\n",
      "WARNING:root:Experiment Anp32b was never performed\n",
      "WARNING:root:Experiment Misp was never performed\n",
      "WARNING:root:Experiment Ccnc was never performed\n",
      "WARNING:root:Experiment Crb1 was never performed\n",
      "WARNING:root:Experiment Hnf1a was never performed\n",
      "WARNING:root:Experiment Amigo1 was never performed\n",
      "WARNING:root:Experiment Il13 was never performed\n",
      "WARNING:root:Experiment Awat2 was never performed\n",
      "WARNING:root:Experiment Cpa5 was never performed\n",
      "WARNING:root:Experiment LOC433975 was never performed\n",
      "WARNING:root:Experiment Ighd was never performed\n"
     ]
    }
   ],
   "source": [
    "try:\n",
    "    for gene, zi in zip(to_download_genes, zis):\n",
    "        p.apply_async(download_grid_recent,\n",
    "                      (gene,),\n",
    "                      dict(n=zi,folder='/home/gioele/IPyNotebook/AllenBrainExpressionGrids/',\n",
    "                           sag_or_cor='coronal', adu_or_dev='adult', time_point='P56'))\n",
    "    p.close()\n",
    "    p.join()\n",
    "except KeyboardInterrupt:\n",
    "    p.terminate()\n",
    "    print(\"you terminated the program\")"
   ]
  },
  {
   "cell_type": "code",
   "execution_count": 3,
   "metadata": {
    "ExecuteTime": {
     "end_time": "2017-06-13T12:04:55.477648",
     "start_time": "2017-06-13T12:04:55.441259"
    },
    "collapsed": true
   },
   "outputs": [],
   "source": [
    "genes_downloaded = !ls /home/gioele/IPyNotebook/AllenBrainExpressionGrids/\n",
    "genes_downloaded= [i.split(\"_\")[0] for i in genes_downloaded] "
   ]
  },
  {
   "cell_type": "code",
   "execution_count": 4,
   "metadata": {
    "ExecuteTime": {
     "end_time": "2017-06-13T12:04:55.826063",
     "start_time": "2017-06-13T12:04:55.808605"
    },
    "collapsed": false
   },
   "outputs": [
    {
     "data": {
      "text/plain": [
       "12173"
      ]
     },
     "execution_count": 4,
     "metadata": {},
     "output_type": "execute_result"
    }
   ],
   "source": [
    "to_download_genes = list(set(all_genes) - set(genes_downloaded))\n",
    "len(to_download_genes)"
   ]
  },
  {
   "cell_type": "code",
   "execution_count": 5,
   "metadata": {
    "ExecuteTime": {
     "end_time": "2017-06-13T12:05:01.577833",
     "start_time": "2017-06-13T12:05:00.129035"
    },
    "collapsed": false
   },
   "outputs": [],
   "source": [
    "N = 40\n",
    "p = Pool(processes=N)\n",
    "fetchers = [ISHFetcher() for i in range(N)]"
   ]
  },
  {
   "cell_type": "code",
   "execution_count": 6,
   "metadata": {
    "ExecuteTime": {
     "end_time": "2017-06-13T12:05:02.063996",
     "start_time": "2017-06-13T12:05:02.055908"
    },
    "collapsed": true
   },
   "outputs": [],
   "source": [
    "def download_grid_recent(gene,n,folder, sag_or_cor, adu_or_dev, time_point):\n",
    "    return fetchers[n].download_grid_recent(gene,folder, sag_or_cor, adu_or_dev, time_point)"
   ]
  },
  {
   "cell_type": "code",
   "execution_count": 7,
   "metadata": {
    "ExecuteTime": {
     "end_time": "2017-06-13T12:05:03.128342",
     "start_time": "2017-06-13T12:05:03.118946"
    },
    "collapsed": false
   },
   "outputs": [
    {
     "data": {
      "text/plain": [
       "(12173, (12173,))"
      ]
     },
     "execution_count": 7,
     "metadata": {},
     "output_type": "execute_result"
    }
   ],
   "source": [
    "zis = np.tile(np.arange(N), 1 + len(to_download_genes)//N)[:len(to_download_genes)]\n",
    "len(to_download_genes), zis.shape"
   ]
  },
  {
   "cell_type": "code",
   "execution_count": 8,
   "metadata": {
    "ExecuteTime": {
     "end_time": "2017-06-13T12:06:14.610307",
     "start_time": "2017-06-13T12:05:06.103884"
    },
    "collapsed": true
   },
   "outputs": [
    {
     "name": "stderr",
     "output_type": "stream",
     "text": [
      "WARNING:root:Experiment Mafa was never performed\n",
      "WARNING:root:Experiment BC048562 was never performed\n",
      "WARNING:root:Experiment Atoh7 was never performed\n",
      "Process ForkPoolWorker-73:\n",
      "Process ForkPoolWorker-75:\n",
      "Process ForkPoolWorker-71:\n",
      "Process ForkPoolWorker-72:\n",
      "Process ForkPoolWorker-77:\n",
      "Process ForkPoolWorker-66:\n",
      "Process ForkPoolWorker-63:\n",
      "Process ForkPoolWorker-47:\n",
      "Process ForkPoolWorker-74:\n",
      "Process ForkPoolWorker-68:\n",
      "Process ForkPoolWorker-65:\n",
      "Process ForkPoolWorker-69:\n",
      "Process ForkPoolWorker-70:\n",
      "Process ForkPoolWorker-58:\n",
      "Process ForkPoolWorker-67:\n",
      "Process ForkPoolWorker-56:\n",
      "Process ForkPoolWorker-59:\n",
      "Process ForkPoolWorker-45:\n",
      "Process ForkPoolWorker-50:\n",
      "Process ForkPoolWorker-57:\n",
      "Process ForkPoolWorker-64:\n",
      "Process ForkPoolWorker-41:\n",
      "Process ForkPoolWorker-62:\n",
      "Process ForkPoolWorker-76:\n",
      "Process ForkPoolWorker-54:\n",
      "Process ForkPoolWorker-42:\n",
      "Process ForkPoolWorker-61:\n",
      "Process ForkPoolWorker-51:\n",
      "Process ForkPoolWorker-52:\n",
      "Process ForkPoolWorker-78:\n",
      "Process ForkPoolWorker-60:\n",
      "Process ForkPoolWorker-79:\n",
      "Process ForkPoolWorker-44:\n",
      "Process ForkPoolWorker-80:\n",
      "Process ForkPoolWorker-46:\n",
      "Process ForkPoolWorker-48:\n",
      "Process ForkPoolWorker-55:\n",
      "Traceback (most recent call last):\n",
      "Traceback (most recent call last):\n",
      "Process ForkPoolWorker-43:\n",
      "Traceback (most recent call last):\n",
      "Traceback (most recent call last):\n",
      "Traceback (most recent call last):\n",
      "Process ForkPoolWorker-49:\n",
      "Traceback (most recent call last):\n",
      "Traceback (most recent call last):\n",
      "Traceback (most recent call last):\n",
      "Process ForkPoolWorker-53:\n",
      "Traceback (most recent call last):\n",
      "Traceback (most recent call last):\n",
      "Traceback (most recent call last):\n",
      "Traceback (most recent call last):\n",
      "Traceback (most recent call last):\n",
      "Traceback (most recent call last):\n",
      "Traceback (most recent call last):\n",
      "  File \"/home/gioele/anaconda2/envs/py35-env/lib/python3.5/multiprocessing/process.py\", line 249, in _bootstrap\n",
      "    self.run()\n",
      "Traceback (most recent call last):\n",
      "Traceback (most recent call last):\n",
      "Traceback (most recent call last):\n",
      "Traceback (most recent call last):\n",
      "  File \"/home/gioele/anaconda2/envs/py35-env/lib/python3.5/multiprocessing/process.py\", line 249, in _bootstrap\n",
      "    self.run()\n",
      "Traceback (most recent call last):\n",
      "  File \"/home/gioele/anaconda2/envs/py35-env/lib/python3.5/multiprocessing/process.py\", line 249, in _bootstrap\n",
      "    self.run()\n",
      "Traceback (most recent call last):\n",
      "Traceback (most recent call last):\n",
      "Traceback (most recent call last):\n",
      "Traceback (most recent call last):\n",
      "  File \"/home/gioele/anaconda2/envs/py35-env/lib/python3.5/site-packages/requests/packages/urllib3/connectionpool.py\", line 384, in _make_request\n",
      "    httplib_response = conn.getresponse(buffering=True)\n",
      "  File \"/home/gioele/anaconda2/envs/py35-env/lib/python3.5/multiprocessing/process.py\", line 249, in _bootstrap\n",
      "    self.run()\n",
      "Traceback (most recent call last):\n",
      "  File \"/home/gioele/anaconda2/envs/py35-env/lib/python3.5/site-packages/requests/packages/urllib3/connectionpool.py\", line 384, in _make_request\n",
      "    httplib_response = conn.getresponse(buffering=True)\n",
      "  File \"/home/gioele/anaconda2/envs/py35-env/lib/python3.5/multiprocessing/process.py\", line 249, in _bootstrap\n",
      "    self.run()\n",
      "Traceback (most recent call last):\n",
      "  File \"/home/gioele/anaconda2/envs/py35-env/lib/python3.5/site-packages/requests/packages/urllib3/connectionpool.py\", line 384, in _make_request\n",
      "    httplib_response = conn.getresponse(buffering=True)\n",
      "Traceback (most recent call last):\n",
      "Traceback (most recent call last):\n",
      "Traceback (most recent call last):\n",
      "Traceback (most recent call last):\n",
      "Traceback (most recent call last):\n",
      "Traceback (most recent call last):\n",
      "  File \"/home/gioele/anaconda2/envs/py35-env/lib/python3.5/site-packages/requests/packages/urllib3/connectionpool.py\", line 384, in _make_request\n",
      "    httplib_response = conn.getresponse(buffering=True)\n",
      "Traceback (most recent call last):\n",
      "  File \"/home/gioele/anaconda2/envs/py35-env/lib/python3.5/multiprocessing/process.py\", line 249, in _bootstrap\n",
      "    self.run()\n",
      "  File \"/home/gioele/anaconda2/envs/py35-env/lib/python3.5/multiprocessing/process.py\", line 249, in _bootstrap\n",
      "    self.run()\n",
      "  File \"/home/gioele/anaconda2/envs/py35-env/lib/python3.5/multiprocessing/process.py\", line 249, in _bootstrap\n",
      "    self.run()\n",
      "  File \"/home/gioele/anaconda2/envs/py35-env/lib/python3.5/multiprocessing/process.py\", line 249, in _bootstrap\n",
      "    self.run()\n",
      "  File \"/home/gioele/anaconda2/envs/py35-env/lib/python3.5/multiprocessing/process.py\", line 93, in run\n",
      "    self._target(*self._args, **self._kwargs)\n",
      "Traceback (most recent call last):\n",
      "  File \"/home/gioele/anaconda2/envs/py35-env/lib/python3.5/multiprocessing/process.py\", line 249, in _bootstrap\n",
      "    self.run()\n",
      "  File \"/home/gioele/anaconda2/envs/py35-env/lib/python3.5/multiprocessing/process.py\", line 249, in _bootstrap\n",
      "    self.run()\n",
      "Traceback (most recent call last):\n",
      "  File \"/home/gioele/anaconda2/envs/py35-env/lib/python3.5/multiprocessing/process.py\", line 249, in _bootstrap\n",
      "    self.run()\n",
      "  File \"/home/gioele/anaconda2/envs/py35-env/lib/python3.5/multiprocessing/process.py\", line 249, in _bootstrap\n",
      "    self.run()\n",
      "  File \"/home/gioele/anaconda2/envs/py35-env/lib/python3.5/site-packages/requests/packages/urllib3/connectionpool.py\", line 384, in _make_request\n",
      "    httplib_response = conn.getresponse(buffering=True)\n",
      "Traceback (most recent call last):\n",
      "Traceback (most recent call last):\n",
      "  File \"/home/gioele/anaconda2/envs/py35-env/lib/python3.5/site-packages/requests/packages/urllib3/connectionpool.py\", line 384, in _make_request\n",
      "    httplib_response = conn.getresponse(buffering=True)\n",
      "  File \"/home/gioele/anaconda2/envs/py35-env/lib/python3.5/multiprocessing/process.py\", line 93, in run\n",
      "    self._target(*self._args, **self._kwargs)\n",
      "  File \"/home/gioele/anaconda2/envs/py35-env/lib/python3.5/multiprocessing/process.py\", line 93, in run\n",
      "    self._target(*self._args, **self._kwargs)\n",
      "Traceback (most recent call last):\n",
      "  File \"/home/gioele/anaconda2/envs/py35-env/lib/python3.5/site-packages/requests/packages/urllib3/connectionpool.py\", line 384, in _make_request\n",
      "    httplib_response = conn.getresponse(buffering=True)\n",
      "  File \"/home/gioele/anaconda2/envs/py35-env/lib/python3.5/multiprocessing/process.py\", line 249, in _bootstrap\n",
      "    self.run()\n",
      "Traceback (most recent call last):\n",
      "  File \"/home/gioele/anaconda2/envs/py35-env/lib/python3.5/site-packages/requests/packages/urllib3/connectionpool.py\", line 384, in _make_request\n",
      "    httplib_response = conn.getresponse(buffering=True)\n",
      "  File \"/home/gioele/anaconda2/envs/py35-env/lib/python3.5/multiprocessing/process.py\", line 249, in _bootstrap\n",
      "    self.run()\n",
      "  File \"/home/gioele/anaconda2/envs/py35-env/lib/python3.5/site-packages/requests/packages/urllib3/connectionpool.py\", line 384, in _make_request\n",
      "    httplib_response = conn.getresponse(buffering=True)\n",
      "TypeError: getresponse() got an unexpected keyword argument 'buffering'\n",
      "  File \"/home/gioele/anaconda2/envs/py35-env/lib/python3.5/multiprocessing/process.py\", line 93, in run\n",
      "    self._target(*self._args, **self._kwargs)\n",
      "TypeError: getresponse() got an unexpected keyword argument 'buffering'\n",
      "  File \"/home/gioele/anaconda2/envs/py35-env/lib/python3.5/multiprocessing/process.py\", line 93, in run\n",
      "    self._target(*self._args, **self._kwargs)\n",
      "  File \"/home/gioele/anaconda2/envs/py35-env/lib/python3.5/site-packages/requests/packages/urllib3/connectionpool.py\", line 384, in _make_request\n",
      "    httplib_response = conn.getresponse(buffering=True)\n",
      "TypeError: getresponse() got an unexpected keyword argument 'buffering'\n",
      "  File \"/home/gioele/anaconda2/envs/py35-env/lib/python3.5/multiprocessing/process.py\", line 249, in _bootstrap\n",
      "    self.run()\n",
      "Traceback (most recent call last):\n",
      "  File \"/home/gioele/anaconda2/envs/py35-env/lib/python3.5/multiprocessing/process.py\", line 249, in _bootstrap\n",
      "    self.run()\n",
      "  File \"/home/gioele/anaconda2/envs/py35-env/lib/python3.5/multiprocessing/process.py\", line 249, in _bootstrap\n",
      "    self.run()\n",
      "  File \"/home/gioele/anaconda2/envs/py35-env/lib/python3.5/site-packages/requests/packages/urllib3/connectionpool.py\", line 384, in _make_request\n",
      "    httplib_response = conn.getresponse(buffering=True)\n",
      "  File \"/home/gioele/anaconda2/envs/py35-env/lib/python3.5/site-packages/requests/packages/urllib3/connectionpool.py\", line 384, in _make_request\n",
      "    httplib_response = conn.getresponse(buffering=True)\n",
      "  File \"/home/gioele/anaconda2/envs/py35-env/lib/python3.5/multiprocessing/process.py\", line 249, in _bootstrap\n",
      "    self.run()\n",
      "  File \"/home/gioele/anaconda2/envs/py35-env/lib/python3.5/multiprocessing/process.py\", line 249, in _bootstrap\n",
      "    self.run()\n",
      "TypeError: getresponse() got an unexpected keyword argument 'buffering'\n",
      "  File \"/home/gioele/anaconda2/envs/py35-env/lib/python3.5/site-packages/requests/packages/urllib3/connectionpool.py\", line 384, in _make_request\n",
      "    httplib_response = conn.getresponse(buffering=True)\n",
      "  File \"/home/gioele/anaconda2/envs/py35-env/lib/python3.5/multiprocessing/process.py\", line 93, in run\n",
      "    self._target(*self._args, **self._kwargs)\n",
      "  File \"/home/gioele/anaconda2/envs/py35-env/lib/python3.5/multiprocessing/process.py\", line 93, in run\n",
      "    self._target(*self._args, **self._kwargs)\n",
      "  File \"/home/gioele/anaconda2/envs/py35-env/lib/python3.5/multiprocessing/process.py\", line 93, in run\n",
      "    self._target(*self._args, **self._kwargs)\n",
      "  File \"/home/gioele/anaconda2/envs/py35-env/lib/python3.5/multiprocessing/process.py\", line 93, in run\n",
      "    self._target(*self._args, **self._kwargs)\n",
      "  File \"/home/gioele/anaconda2/envs/py35-env/lib/python3.5/multiprocessing/pool.py\", line 119, in worker\n",
      "    result = (True, func(*args, **kwds))\n",
      "  File \"/home/gioele/anaconda2/envs/py35-env/lib/python3.5/site-packages/requests/packages/urllib3/connectionpool.py\", line 384, in _make_request\n",
      "    httplib_response = conn.getresponse(buffering=True)\n",
      "  File \"/home/gioele/anaconda2/envs/py35-env/lib/python3.5/multiprocessing/process.py\", line 93, in run\n",
      "    self._target(*self._args, **self._kwargs)\n",
      "  File \"/home/gioele/anaconda2/envs/py35-env/lib/python3.5/multiprocessing/process.py\", line 93, in run\n",
      "    self._target(*self._args, **self._kwargs)\n",
      "  File \"/home/gioele/anaconda2/envs/py35-env/lib/python3.5/multiprocessing/process.py\", line 249, in _bootstrap\n",
      "    self.run()\n",
      "  File \"/home/gioele/anaconda2/envs/py35-env/lib/python3.5/multiprocessing/process.py\", line 93, in run\n",
      "    self._target(*self._args, **self._kwargs)\n",
      "  File \"/home/gioele/anaconda2/envs/py35-env/lib/python3.5/multiprocessing/process.py\", line 93, in run\n",
      "    self._target(*self._args, **self._kwargs)\n",
      "TypeError: getresponse() got an unexpected keyword argument 'buffering'\n",
      "  File \"/home/gioele/anaconda2/envs/py35-env/lib/python3.5/multiprocessing/process.py\", line 249, in _bootstrap\n",
      "    self.run()\n",
      "  File \"/home/gioele/anaconda2/envs/py35-env/lib/python3.5/multiprocessing/process.py\", line 249, in _bootstrap\n",
      "    self.run()\n",
      "TypeError: getresponse() got an unexpected keyword argument 'buffering'\n",
      "  File \"/home/gioele/anaconda2/envs/py35-env/lib/python3.5/multiprocessing/pool.py\", line 119, in worker\n",
      "    result = (True, func(*args, **kwds))\n",
      "TypeError: getresponse() got an unexpected keyword argument 'buffering'\n",
      "  File \"/home/gioele/anaconda2/envs/py35-env/lib/python3.5/multiprocessing/process.py\", line 249, in _bootstrap\n",
      "    self.run()\n",
      "  File \"/home/gioele/anaconda2/envs/py35-env/lib/python3.5/multiprocessing/pool.py\", line 119, in worker\n",
      "    result = (True, func(*args, **kwds))\n",
      "  File \"/home/gioele/anaconda2/envs/py35-env/lib/python3.5/site-packages/requests/packages/urllib3/connectionpool.py\", line 384, in _make_request\n",
      "    httplib_response = conn.getresponse(buffering=True)\n",
      "  File \"/home/gioele/anaconda2/envs/py35-env/lib/python3.5/multiprocessing/process.py\", line 93, in run\n",
      "    self._target(*self._args, **self._kwargs)\n",
      "TypeError: getresponse() got an unexpected keyword argument 'buffering'\n",
      "TypeError: getresponse() got an unexpected keyword argument 'buffering'\n",
      "\n",
      "During handling of the above exception, another exception occurred:\n",
      "\n",
      "  File \"/home/gioele/anaconda2/envs/py35-env/lib/python3.5/multiprocessing/process.py\", line 93, in run\n",
      "    self._target(*self._args, **self._kwargs)\n",
      "  File \"/home/gioele/anaconda2/envs/py35-env/lib/python3.5/multiprocessing/pool.py\", line 119, in worker\n",
      "    result = (True, func(*args, **kwds))\n",
      "  File \"/home/gioele/anaconda2/envs/py35-env/lib/python3.5/multiprocessing/pool.py\", line 119, in worker\n",
      "    result = (True, func(*args, **kwds))\n",
      "\n",
      "During handling of the above exception, another exception occurred:\n",
      "\n",
      "TypeError: getresponse() got an unexpected keyword argument 'buffering'\n",
      "  File \"/home/gioele/anaconda2/envs/py35-env/lib/python3.5/multiprocessing/process.py\", line 93, in run\n",
      "    self._target(*self._args, **self._kwargs)\n",
      "\n",
      "During handling of the above exception, another exception occurred:\n",
      "\n",
      "  File \"/home/gioele/anaconda2/envs/py35-env/lib/python3.5/site-packages/requests/packages/urllib3/connectionpool.py\", line 384, in _make_request\n",
      "    httplib_response = conn.getresponse(buffering=True)\n",
      "  File \"/home/gioele/anaconda2/envs/py35-env/lib/python3.5/multiprocessing/process.py\", line 93, in run\n",
      "    self._target(*self._args, **self._kwargs)\n",
      "  File \"/home/gioele/anaconda2/envs/py35-env/lib/python3.5/multiprocessing/process.py\", line 93, in run\n",
      "    self._target(*self._args, **self._kwargs)\n",
      "  File \"/home/gioele/anaconda2/envs/py35-env/lib/python3.5/multiprocessing/process.py\", line 93, in run\n",
      "    self._target(*self._args, **self._kwargs)\n",
      "TypeError: getresponse() got an unexpected keyword argument 'buffering'\n",
      "TypeError: getresponse() got an unexpected keyword argument 'buffering'\n",
      "  File \"/home/gioele/anaconda2/envs/py35-env/lib/python3.5/multiprocessing/process.py\", line 93, in run\n",
      "    self._target(*self._args, **self._kwargs)\n",
      "\n",
      "During handling of the above exception, another exception occurred:\n",
      "\n",
      "  File \"/home/gioele/anaconda2/envs/py35-env/lib/python3.5/multiprocessing/pool.py\", line 119, in worker\n",
      "    result = (True, func(*args, **kwds))\n",
      "TypeError: getresponse() got an unexpected keyword argument 'buffering'\n",
      "  File \"/home/gioele/anaconda2/envs/py35-env/lib/python3.5/multiprocessing/pool.py\", line 119, in worker\n",
      "    result = (True, func(*args, **kwds))\n",
      "  File \"/home/gioele/anaconda2/envs/py35-env/lib/python3.5/multiprocessing/pool.py\", line 119, in worker\n",
      "    result = (True, func(*args, **kwds))\n",
      "  File \"<ipython-input-6-68830556222e>\", line 2, in download_grid_recent\n",
      "    return fetchers[n].download_grid_recent(gene,folder, sag_or_cor, adu_or_dev, time_point)\n",
      "  File \"/home/gioele/anaconda2/envs/py35-env/lib/python3.5/multiprocessing/pool.py\", line 119, in worker\n",
      "    result = (True, func(*args, **kwds))\n",
      "  File \"/home/gioele/anaconda2/envs/py35-env/lib/python3.5/multiprocessing/pool.py\", line 119, in worker\n",
      "    result = (True, func(*args, **kwds))\n",
      "  File \"/home/gioele/anaconda2/envs/py35-env/lib/python3.5/multiprocessing/process.py\", line 93, in run\n",
      "    self._target(*self._args, **self._kwargs)\n",
      "  File \"/home/gioele/anaconda2/envs/py35-env/lib/python3.5/multiprocessing/pool.py\", line 119, in worker\n",
      "    result = (True, func(*args, **kwds))\n",
      "TypeError: getresponse() got an unexpected keyword argument 'buffering'\n",
      "  File \"/home/gioele/anaconda2/envs/py35-env/lib/python3.5/multiprocessing/pool.py\", line 119, in worker\n",
      "    result = (True, func(*args, **kwds))\n",
      "  File \"/home/gioele/anaconda2/envs/py35-env/lib/python3.5/multiprocessing/process.py\", line 93, in run\n",
      "    self._target(*self._args, **self._kwargs)\n",
      "  File \"<ipython-input-6-68830556222e>\", line 2, in download_grid_recent\n",
      "    return fetchers[n].download_grid_recent(gene,folder, sag_or_cor, adu_or_dev, time_point)\n",
      "  File \"/home/gioele/anaconda2/envs/py35-env/lib/python3.5/multiprocessing/pool.py\", line 119, in worker\n",
      "    result = (True, func(*args, **kwds))\n",
      "\n",
      "During handling of the above exception, another exception occurred:\n",
      "\n",
      "  File \"/home/gioele/anaconda2/envs/py35-env/lib/python3.5/multiprocessing/process.py\", line 93, in run\n",
      "    self._target(*self._args, **self._kwargs)\n",
      "  File \"/home/gioele/anaconda2/envs/py35-env/lib/python3.5/multiprocessing/process.py\", line 93, in run\n",
      "    self._target(*self._args, **self._kwargs)\n",
      "\n",
      "During handling of the above exception, another exception occurred:\n",
      "\n",
      "  File \"<ipython-input-6-68830556222e>\", line 2, in download_grid_recent\n",
      "    return fetchers[n].download_grid_recent(gene,folder, sag_or_cor, adu_or_dev, time_point)\n",
      "  File \"/home/gioele/anaconda2/envs/py35-env/lib/python3.5/multiprocessing/pool.py\", line 119, in worker\n",
      "    result = (True, func(*args, **kwds))\n",
      "\n",
      "During handling of the above exception, another exception occurred:\n",
      "\n",
      "TypeError: getresponse() got an unexpected keyword argument 'buffering'\n",
      "\n",
      "During handling of the above exception, another exception occurred:\n",
      "\n",
      "\n",
      "During handling of the above exception, another exception occurred:\n",
      "\n",
      "Traceback (most recent call last):\n",
      "  File \"<ipython-input-6-68830556222e>\", line 2, in download_grid_recent\n",
      "    return fetchers[n].download_grid_recent(gene,folder, sag_or_cor, adu_or_dev, time_point)\n",
      "  File \"<ipython-input-6-68830556222e>\", line 2, in download_grid_recent\n",
      "    return fetchers[n].download_grid_recent(gene,folder, sag_or_cor, adu_or_dev, time_point)\n",
      "  File \"<ipython-input-6-68830556222e>\", line 2, in download_grid_recent\n",
      "    return fetchers[n].download_grid_recent(gene,folder, sag_or_cor, adu_or_dev, time_point)\n",
      "Traceback (most recent call last):\n",
      "\n",
      "During handling of the above exception, another exception occurred:\n",
      "\n",
      "Traceback (most recent call last):\n",
      "Traceback (most recent call last):\n",
      "  File \"/home/gioele/anaconda2/envs/py35-env/lib/python3.5/multiprocessing/pool.py\", line 119, in worker\n",
      "    result = (True, func(*args, **kwds))\n",
      "  File \"/home/gioele/anaconda2/envs/py35-env/lib/python3.5/multiprocessing/pool.py\", line 119, in worker\n",
      "    result = (True, func(*args, **kwds))\n"
     ]
    },
    {
     "name": "stdout",
     "output_type": "stream",
     "text": [
      "you terminated the program\n"
     ]
    }
   ],
   "source": [
    "try:\n",
    "    for gene, zi in zip(to_download_genes, zis):\n",
    "        p.apply_async(download_grid_recent,\n",
    "                      (gene,),\n",
    "                      dict(n=zi,folder='/home/gioele/IPyNotebook/AllenBrainExpressionGrids/',\n",
    "                           sag_or_cor='sagittal', adu_or_dev='adult', time_point='P56'))\n",
    "    p.close()\n",
    "    p.join()\n",
    "except KeyboardInterrupt:\n",
    "    p.terminate()\n",
    "    print(\"you terminated the program\")"
   ]
  },
  {
   "cell_type": "code",
   "execution_count": 36,
   "metadata": {
    "ExecuteTime": {
     "end_time": "2017-06-13T12:04:01.110199",
     "start_time": "2017-06-13T12:04:01.102754"
    },
    "collapsed": false,
    "run_control": {
     "frozen": false,
     "read_only": false
    }
   },
   "outputs": [
    {
     "data": {
      "text/plain": [
       "'a'"
      ]
     },
     "execution_count": 36,
     "metadata": {},
     "output_type": "execute_result"
    }
   ],
   "source": [
    "\"a\""
   ]
  },
  {
   "cell_type": "code",
   "execution_count": null,
   "metadata": {
    "collapsed": true
   },
   "outputs": [],
   "source": []
  }
 ],
 "metadata": {
  "anaconda-cloud": {},
  "hide_input": false,
  "kernelspec": {
   "display_name": "Python 3",
   "language": "python",
   "name": "python3"
  },
  "language_info": {
   "codemirror_mode": {
    "name": "ipython",
    "version": 3
   },
   "file_extension": ".py",
   "mimetype": "text/x-python",
   "name": "python",
   "nbconvert_exporter": "python",
   "pygments_lexer": "ipython3",
   "version": "3.5.2"
  }
 },
 "nbformat": 4,
 "nbformat_minor": 1
}
